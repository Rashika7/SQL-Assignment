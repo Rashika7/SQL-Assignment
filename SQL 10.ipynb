{
 "cells": [
  {
   "cell_type": "code",
   "execution_count": 1,
   "id": "91a7295d",
   "metadata": {},
   "outputs": [],
   "source": [
    "import mysql.connector as conn"
   ]
  },
  {
   "cell_type": "code",
   "execution_count": 2,
   "id": "ef9107c0",
   "metadata": {},
   "outputs": [],
   "source": [
    "mydb=conn.connect(host=\"localhost\", user=\"root\", password=\"r@shika123\")"
   ]
  },
  {
   "cell_type": "code",
   "execution_count": 3,
   "id": "588a1005",
   "metadata": {},
   "outputs": [],
   "source": [
    "cursor=mydb.cursor()"
   ]
  },
  {
   "cell_type": "code",
   "execution_count": 4,
   "id": "61646a6e",
   "metadata": {},
   "outputs": [],
   "source": [
    "cursor.execute(\"use organisation\")"
   ]
  },
  {
   "cell_type": "markdown",
   "id": "dd83e148",
   "metadata": {},
   "source": [
    "# Q-1. Write an SQL query to determine the 5th highest salary without using TOP or limit method."
   ]
  },
  {
   "cell_type": "code",
   "execution_count": 5,
   "id": "71f58330",
   "metadata": {},
   "outputs": [
    {
     "data": {
      "text/html": [
       "<div>\n",
       "<style scoped>\n",
       "    .dataframe tbody tr th:only-of-type {\n",
       "        vertical-align: middle;\n",
       "    }\n",
       "\n",
       "    .dataframe tbody tr th {\n",
       "        vertical-align: top;\n",
       "    }\n",
       "\n",
       "    .dataframe thead th {\n",
       "        text-align: right;\n",
       "    }\n",
       "</style>\n",
       "<table border=\"1\" class=\"dataframe\">\n",
       "  <thead>\n",
       "    <tr style=\"text-align: right;\">\n",
       "      <th></th>\n",
       "      <th>emp_id</th>\n",
       "      <th>Name</th>\n",
       "      <th>Address</th>\n",
       "      <th>Salary</th>\n",
       "      <th>City</th>\n",
       "    </tr>\n",
       "  </thead>\n",
       "  <tbody>\n",
       "    <tr>\n",
       "      <th>0</th>\n",
       "      <td>10</td>\n",
       "      <td>Ranjana D</td>\n",
       "      <td>JP NAGAR</td>\n",
       "      <td>158800</td>\n",
       "      <td>Ayrshire</td>\n",
       "    </tr>\n",
       "    <tr>\n",
       "      <th>1</th>\n",
       "      <td>10</td>\n",
       "      <td>Ranjana D</td>\n",
       "      <td>JP NAGAR</td>\n",
       "      <td>158800</td>\n",
       "      <td>Ayrshire</td>\n",
       "    </tr>\n",
       "    <tr>\n",
       "      <th>2</th>\n",
       "      <td>10</td>\n",
       "      <td>Ranjana D</td>\n",
       "      <td>JP NAGAR</td>\n",
       "      <td>158800</td>\n",
       "      <td>Ayrsh</td>\n",
       "    </tr>\n",
       "    <tr>\n",
       "      <th>3</th>\n",
       "      <td>11</td>\n",
       "      <td>Rohit k</td>\n",
       "      <td>KAMLA NAGAR</td>\n",
       "      <td>158000</td>\n",
       "      <td>Azalea</td>\n",
       "    </tr>\n",
       "    <tr>\n",
       "      <th>4</th>\n",
       "      <td>12</td>\n",
       "      <td>Rupa G</td>\n",
       "      <td>OP NAGAR</td>\n",
       "      <td>258000</td>\n",
       "      <td>Azle</td>\n",
       "    </tr>\n",
       "    <tr>\n",
       "      <th>5</th>\n",
       "      <td>13</td>\n",
       "      <td>Rishi P</td>\n",
       "      <td>GT NAGAR</td>\n",
       "      <td>358000</td>\n",
       "      <td>Aztec</td>\n",
       "    </tr>\n",
       "    <tr>\n",
       "      <th>6</th>\n",
       "      <td>14</td>\n",
       "      <td>Raju D</td>\n",
       "      <td>GTB NAGAR</td>\n",
       "      <td>458000</td>\n",
       "      <td>Azure</td>\n",
       "    </tr>\n",
       "    <tr>\n",
       "      <th>7</th>\n",
       "      <td>15</td>\n",
       "      <td>Reena D</td>\n",
       "      <td>MG NAGAR</td>\n",
       "      <td>558000</td>\n",
       "      <td>Azusa</td>\n",
       "    </tr>\n",
       "  </tbody>\n",
       "</table>\n",
       "</div>"
      ],
      "text/plain": [
       "   emp_id       Name      Address  Salary      City\n",
       "0      10  Ranjana D     JP NAGAR  158800  Ayrshire\n",
       "1      10  Ranjana D     JP NAGAR  158800  Ayrshire\n",
       "2      10  Ranjana D     JP NAGAR  158800     Ayrsh\n",
       "3      11    Rohit k  KAMLA NAGAR  158000    Azalea\n",
       "4      12     Rupa G     OP NAGAR  258000      Azle\n",
       "5      13    Rishi P     GT NAGAR  358000     Aztec\n",
       "6      14     Raju D    GTB NAGAR  458000     Azure\n",
       "7      15    Reena D     MG NAGAR  558000     Azusa"
      ]
     },
     "execution_count": 5,
     "metadata": {},
     "output_type": "execute_result"
    }
   ],
   "source": [
    "import pandas as pd\n",
    "pd.read_sql('select * from organisation.employee',mydb)"
   ]
  },
  {
   "cell_type": "code",
   "execution_count": 6,
   "id": "e389602b",
   "metadata": {},
   "outputs": [],
   "source": [
    "cursor.execute(\"select salary from employee e1 where 4=(select count(distinct(e2.salary)) from employee e2 where e2.salary>=e1.salary)\")"
   ]
  },
  {
   "cell_type": "code",
   "execution_count": 7,
   "id": "3c0cc54c",
   "metadata": {},
   "outputs": [
    {
     "data": {
      "text/plain": [
       "[(258000,)]"
      ]
     },
     "execution_count": 7,
     "metadata": {},
     "output_type": "execute_result"
    }
   ],
   "source": [
    "cursor.fetchall()"
   ]
  },
  {
   "cell_type": "markdown",
   "id": "394c2981",
   "metadata": {},
   "source": [
    "# Q-2. Write an SQL query to fetch the list of employees with the same salary."
   ]
  },
  {
   "cell_type": "code",
   "execution_count": 8,
   "id": "2e11bcdb",
   "metadata": {},
   "outputs": [],
   "source": [
    "#cursor.execute(\" select distinct e.Name, e.Salary from employee e, employee e1 where e.salary=e1.salary and e.Name!=e1.Name\")"
   ]
  },
  {
   "cell_type": "code",
   "execution_count": 9,
   "id": "dffc112d",
   "metadata": {},
   "outputs": [],
   "source": [
    "cursor.execute(\"select name, salary from employee\")"
   ]
  },
  {
   "cell_type": "code",
   "execution_count": 10,
   "id": "127c5f47",
   "metadata": {},
   "outputs": [
    {
     "data": {
      "text/plain": [
       "[('Ranjana D', 158800),\n",
       " ('Ranjana D', 158800),\n",
       " ('Ranjana D', 158800),\n",
       " ('Rohit k', 158000),\n",
       " ('Rupa G', 258000),\n",
       " ('Rishi P', 358000),\n",
       " ('Raju D', 458000),\n",
       " ('Reena D', 558000)]"
      ]
     },
     "execution_count": 10,
     "metadata": {},
     "output_type": "execute_result"
    }
   ],
   "source": [
    "cursor.fetchall()"
   ]
  },
  {
   "cell_type": "markdown",
   "id": "5835e85e",
   "metadata": {},
   "source": [
    "                             Keep Learning, Keep Growing..."
   ]
  }
 ],
 "metadata": {
  "kernelspec": {
   "display_name": "Python 3 (ipykernel)",
   "language": "python",
   "name": "python3"
  },
  "language_info": {
   "codemirror_mode": {
    "name": "ipython",
    "version": 3
   },
   "file_extension": ".py",
   "mimetype": "text/x-python",
   "name": "python",
   "nbconvert_exporter": "python",
   "pygments_lexer": "ipython3",
   "version": "3.9.7"
  }
 },
 "nbformat": 4,
 "nbformat_minor": 5
}
