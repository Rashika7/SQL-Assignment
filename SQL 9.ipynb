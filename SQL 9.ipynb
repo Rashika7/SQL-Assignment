{
 "cells": [
  {
   "cell_type": "code",
   "execution_count": 1,
   "id": "17947ee7",
   "metadata": {},
   "outputs": [],
   "source": [
    "import mysql.connector as conn"
   ]
  },
  {
   "cell_type": "code",
   "execution_count": 2,
   "id": "b6296789",
   "metadata": {},
   "outputs": [],
   "source": [
    "mydb=conn.connect(host=\"localhost\", user=\"root\", password=\"r@shika123\")"
   ]
  },
  {
   "cell_type": "code",
   "execution_count": 3,
   "id": "099eb380",
   "metadata": {},
   "outputs": [],
   "source": [
    "cursor=mydb.cursor()"
   ]
  },
  {
   "cell_type": "code",
   "execution_count": 4,
   "id": "a42021e9",
   "metadata": {},
   "outputs": [],
   "source": [
    "cursor.execute(\"use organisation\")"
   ]
  },
  {
   "cell_type": "code",
   "execution_count": 5,
   "id": "cf1930c1",
   "metadata": {},
   "outputs": [],
   "source": [
    "cursor.execute(\"show tables\")"
   ]
  },
  {
   "cell_type": "code",
   "execution_count": 6,
   "id": "258203b5",
   "metadata": {},
   "outputs": [
    {
     "data": {
      "text/plain": [
       "[('employee',),\n",
       " ('employee1',),\n",
       " ('employee_email',),\n",
       " ('employee_new',),\n",
       " ('employee_table1',),\n",
       " ('mathematics',),\n",
       " ('mathematics_cod',),\n",
       " ('mathematics_codes',),\n",
       " ('mathematics_codes1',),\n",
       " ('mathematics_codes11',),\n",
       " ('mathematics_data',),\n",
       " ('worker_table',)]"
      ]
     },
     "execution_count": 6,
     "metadata": {},
     "output_type": "execute_result"
    }
   ],
   "source": [
    "cursor.fetchall()"
   ]
  },
  {
   "cell_type": "markdown",
   "id": "21dad527",
   "metadata": {},
   "source": [
    "# Q-1. Write an SQL query to show the top n (say 10) records of a table."
   ]
  },
  {
   "cell_type": "code",
   "execution_count": 7,
   "id": "4cc7f8f8",
   "metadata": {},
   "outputs": [
    {
     "data": {
      "text/html": [
       "<div>\n",
       "<style scoped>\n",
       "    .dataframe tbody tr th:only-of-type {\n",
       "        vertical-align: middle;\n",
       "    }\n",
       "\n",
       "    .dataframe tbody tr th {\n",
       "        vertical-align: top;\n",
       "    }\n",
       "\n",
       "    .dataframe thead th {\n",
       "        text-align: right;\n",
       "    }\n",
       "</style>\n",
       "<table border=\"1\" class=\"dataframe\">\n",
       "  <thead>\n",
       "    <tr style=\"text-align: right;\">\n",
       "      <th></th>\n",
       "      <th>emp_id</th>\n",
       "      <th>Name</th>\n",
       "      <th>Address</th>\n",
       "      <th>Salary</th>\n",
       "      <th>City</th>\n",
       "    </tr>\n",
       "  </thead>\n",
       "  <tbody>\n",
       "    <tr>\n",
       "      <th>0</th>\n",
       "      <td>1</td>\n",
       "      <td>Sanchit</td>\n",
       "      <td>AshokNagar</td>\n",
       "      <td>950000</td>\n",
       "      <td>TamilNadu</td>\n",
       "    </tr>\n",
       "    <tr>\n",
       "      <th>1</th>\n",
       "      <td>2</td>\n",
       "      <td>Shilpa</td>\n",
       "      <td>ModelTown</td>\n",
       "      <td>555000</td>\n",
       "      <td>Ranchi</td>\n",
       "    </tr>\n",
       "    <tr>\n",
       "      <th>2</th>\n",
       "      <td>3</td>\n",
       "      <td>Priyanka</td>\n",
       "      <td>Indrapuri nagar</td>\n",
       "      <td>550070</td>\n",
       "      <td>Goa</td>\n",
       "    </tr>\n",
       "    <tr>\n",
       "      <th>3</th>\n",
       "      <td>4</td>\n",
       "      <td>Sachin</td>\n",
       "      <td>janakpuri nagar</td>\n",
       "      <td>550000</td>\n",
       "      <td>Bombay</td>\n",
       "    </tr>\n",
       "    <tr>\n",
       "      <th>4</th>\n",
       "      <td>5</td>\n",
       "      <td>Sachin</td>\n",
       "      <td>janakpuri nagar</td>\n",
       "      <td>550000</td>\n",
       "      <td>Bombay</td>\n",
       "    </tr>\n",
       "    <tr>\n",
       "      <th>5</th>\n",
       "      <td>6</td>\n",
       "      <td>Swapnil</td>\n",
       "      <td>Royal colony</td>\n",
       "      <td>650000</td>\n",
       "      <td>JHARKHAND</td>\n",
       "    </tr>\n",
       "    <tr>\n",
       "      <th>6</th>\n",
       "      <td>7</td>\n",
       "      <td>Ronak</td>\n",
       "      <td>janakpuri nagar</td>\n",
       "      <td>750000</td>\n",
       "      <td>Bihar</td>\n",
       "    </tr>\n",
       "    <tr>\n",
       "      <th>7</th>\n",
       "      <td>8</td>\n",
       "      <td>Anushka</td>\n",
       "      <td>Bommanhalli</td>\n",
       "      <td>550000</td>\n",
       "      <td>Bengaluru</td>\n",
       "    </tr>\n",
       "    <tr>\n",
       "      <th>8</th>\n",
       "      <td>9</td>\n",
       "      <td>Swapnil</td>\n",
       "      <td>Royal colony</td>\n",
       "      <td>650000</td>\n",
       "      <td>JHARKHAND</td>\n",
       "    </tr>\n",
       "    <tr>\n",
       "      <th>9</th>\n",
       "      <td>10</td>\n",
       "      <td>Swapnil</td>\n",
       "      <td>Royal colony</td>\n",
       "      <td>650000</td>\n",
       "      <td>JHARKHAND</td>\n",
       "    </tr>\n",
       "  </tbody>\n",
       "</table>\n",
       "</div>"
      ],
      "text/plain": [
       "   emp_id      Name          Address  Salary       City\n",
       "0       1   Sanchit       AshokNagar  950000  TamilNadu\n",
       "1       2    Shilpa        ModelTown  555000     Ranchi\n",
       "2       3  Priyanka  Indrapuri nagar  550070        Goa\n",
       "3       4    Sachin  janakpuri nagar  550000     Bombay\n",
       "4       5    Sachin  janakpuri nagar  550000     Bombay\n",
       "5       6   Swapnil     Royal colony  650000  JHARKHAND\n",
       "6       7     Ronak  janakpuri nagar  750000      Bihar\n",
       "7       8   Anushka      Bommanhalli  550000  Bengaluru\n",
       "8       9   Swapnil     Royal colony  650000  JHARKHAND\n",
       "9      10   Swapnil     Royal colony  650000  JHARKHAND"
      ]
     },
     "execution_count": 7,
     "metadata": {},
     "output_type": "execute_result"
    }
   ],
   "source": [
    "import pandas as pd\n",
    "pd.read_sql('select * from organisation.employee_table1',mydb)"
   ]
  },
  {
   "cell_type": "code",
   "execution_count": 8,
   "id": "81952da8",
   "metadata": {},
   "outputs": [],
   "source": [
    "cursor.execute(\"select * from employee_table1 order by salary desc limit 10\")"
   ]
  },
  {
   "cell_type": "code",
   "execution_count": 9,
   "id": "35f32679",
   "metadata": {},
   "outputs": [
    {
     "data": {
      "text/plain": [
       "[(1, 'Sanchit', 'AshokNagar', 950000, 'TamilNadu'),\n",
       " (7, 'Ronak', 'janakpuri nagar', 750000, 'Bihar'),\n",
       " (6, 'Swapnil', 'Royal colony', 650000, 'JHARKHAND'),\n",
       " (9, 'Swapnil', 'Royal colony', 650000, 'JHARKHAND'),\n",
       " (10, 'Swapnil', 'Royal colony', 650000, 'JHARKHAND'),\n",
       " (2, 'Shilpa', 'ModelTown', 555000, 'Ranchi'),\n",
       " (3, 'Priyanka', 'Indrapuri nagar', 550070, 'Goa'),\n",
       " (4, 'Sachin', 'janakpuri nagar', 550000, 'Bombay'),\n",
       " (5, 'Sachin', 'janakpuri nagar', 550000, 'Bombay'),\n",
       " (8, 'Anushka', 'Bommanhalli', 550000, 'Bengaluru')]"
      ]
     },
     "execution_count": 9,
     "metadata": {},
     "output_type": "execute_result"
    }
   ],
   "source": [
    "cursor.fetchall()"
   ]
  },
  {
   "cell_type": "markdown",
   "id": "274b3f65",
   "metadata": {},
   "source": [
    "# Q-2. Write an SQL query to determine the nth (say n=5) highest salary from a table."
   ]
  },
  {
   "cell_type": "code",
   "execution_count": 10,
   "id": "0f119ff2",
   "metadata": {},
   "outputs": [
    {
     "data": {
      "text/html": [
       "<div>\n",
       "<style scoped>\n",
       "    .dataframe tbody tr th:only-of-type {\n",
       "        vertical-align: middle;\n",
       "    }\n",
       "\n",
       "    .dataframe tbody tr th {\n",
       "        vertical-align: top;\n",
       "    }\n",
       "\n",
       "    .dataframe thead th {\n",
       "        text-align: right;\n",
       "    }\n",
       "</style>\n",
       "<table border=\"1\" class=\"dataframe\">\n",
       "  <thead>\n",
       "    <tr style=\"text-align: right;\">\n",
       "      <th></th>\n",
       "      <th>emp_id</th>\n",
       "      <th>Name</th>\n",
       "      <th>Address</th>\n",
       "      <th>Salary</th>\n",
       "      <th>City</th>\n",
       "    </tr>\n",
       "  </thead>\n",
       "  <tbody>\n",
       "    <tr>\n",
       "      <th>0</th>\n",
       "      <td>1</td>\n",
       "      <td>Sanchit</td>\n",
       "      <td>AshokNagar</td>\n",
       "      <td>950000</td>\n",
       "      <td>TamilNadu</td>\n",
       "    </tr>\n",
       "    <tr>\n",
       "      <th>1</th>\n",
       "      <td>2</td>\n",
       "      <td>Shilpa</td>\n",
       "      <td>ModelTown</td>\n",
       "      <td>555000</td>\n",
       "      <td>Ranchi</td>\n",
       "    </tr>\n",
       "    <tr>\n",
       "      <th>2</th>\n",
       "      <td>3</td>\n",
       "      <td>Priyanka</td>\n",
       "      <td>Indrapuri nagar</td>\n",
       "      <td>550070</td>\n",
       "      <td>Goa</td>\n",
       "    </tr>\n",
       "    <tr>\n",
       "      <th>3</th>\n",
       "      <td>4</td>\n",
       "      <td>Sachin</td>\n",
       "      <td>janakpuri nagar</td>\n",
       "      <td>550000</td>\n",
       "      <td>Bombay</td>\n",
       "    </tr>\n",
       "    <tr>\n",
       "      <th>4</th>\n",
       "      <td>5</td>\n",
       "      <td>Sachin</td>\n",
       "      <td>janakpuri nagar</td>\n",
       "      <td>550000</td>\n",
       "      <td>Bombay</td>\n",
       "    </tr>\n",
       "    <tr>\n",
       "      <th>5</th>\n",
       "      <td>6</td>\n",
       "      <td>Swapnil</td>\n",
       "      <td>Royal colony</td>\n",
       "      <td>650000</td>\n",
       "      <td>JHARKHAND</td>\n",
       "    </tr>\n",
       "    <tr>\n",
       "      <th>6</th>\n",
       "      <td>7</td>\n",
       "      <td>Ronak</td>\n",
       "      <td>janakpuri nagar</td>\n",
       "      <td>750000</td>\n",
       "      <td>Bihar</td>\n",
       "    </tr>\n",
       "    <tr>\n",
       "      <th>7</th>\n",
       "      <td>8</td>\n",
       "      <td>Anushka</td>\n",
       "      <td>Bommanhalli</td>\n",
       "      <td>550000</td>\n",
       "      <td>Bengaluru</td>\n",
       "    </tr>\n",
       "    <tr>\n",
       "      <th>8</th>\n",
       "      <td>9</td>\n",
       "      <td>Swapnil</td>\n",
       "      <td>Royal colony</td>\n",
       "      <td>650000</td>\n",
       "      <td>JHARKHAND</td>\n",
       "    </tr>\n",
       "    <tr>\n",
       "      <th>9</th>\n",
       "      <td>10</td>\n",
       "      <td>Swapnil</td>\n",
       "      <td>Royal colony</td>\n",
       "      <td>650000</td>\n",
       "      <td>JHARKHAND</td>\n",
       "    </tr>\n",
       "  </tbody>\n",
       "</table>\n",
       "</div>"
      ],
      "text/plain": [
       "   emp_id      Name          Address  Salary       City\n",
       "0       1   Sanchit       AshokNagar  950000  TamilNadu\n",
       "1       2    Shilpa        ModelTown  555000     Ranchi\n",
       "2       3  Priyanka  Indrapuri nagar  550070        Goa\n",
       "3       4    Sachin  janakpuri nagar  550000     Bombay\n",
       "4       5    Sachin  janakpuri nagar  550000     Bombay\n",
       "5       6   Swapnil     Royal colony  650000  JHARKHAND\n",
       "6       7     Ronak  janakpuri nagar  750000      Bihar\n",
       "7       8   Anushka      Bommanhalli  550000  Bengaluru\n",
       "8       9   Swapnil     Royal colony  650000  JHARKHAND\n",
       "9      10   Swapnil     Royal colony  650000  JHARKHAND"
      ]
     },
     "execution_count": 10,
     "metadata": {},
     "output_type": "execute_result"
    }
   ],
   "source": [
    "import pandas as pd\n",
    "pd.read_sql('select * from organisation.employee_table1',mydb)"
   ]
  },
  {
   "cell_type": "code",
   "execution_count": 11,
   "id": "e9765026",
   "metadata": {},
   "outputs": [],
   "source": [
    "cursor.execute(\"select name,salary from employee_table1 order by salary desc\")"
   ]
  },
  {
   "cell_type": "code",
   "execution_count": 12,
   "id": "274a755c",
   "metadata": {},
   "outputs": [
    {
     "data": {
      "text/plain": [
       "[('Sanchit', 950000),\n",
       " ('Ronak', 750000),\n",
       " ('Swapnil', 650000),\n",
       " ('Swapnil', 650000),\n",
       " ('Swapnil', 650000),\n",
       " ('Shilpa', 555000),\n",
       " ('Priyanka', 550070),\n",
       " ('Sachin', 550000),\n",
       " ('Sachin', 550000),\n",
       " ('Anushka', 550000)]"
      ]
     },
     "execution_count": 12,
     "metadata": {},
     "output_type": "execute_result"
    }
   ],
   "source": [
    "cursor.fetchall()"
   ]
  },
  {
   "cell_type": "code",
   "execution_count": 13,
   "id": "06752f5a",
   "metadata": {},
   "outputs": [],
   "source": [
    "#cursor.execute(\"select top 5 * from employee_table1\")"
   ]
  },
  {
   "cell_type": "markdown",
   "id": "2a6915bc",
   "metadata": {},
   "source": [
    "# OR"
   ]
  },
  {
   "cell_type": "code",
   "execution_count": 14,
   "id": "9cf327d7",
   "metadata": {},
   "outputs": [],
   "source": [
    "cursor.execute(\"select * from employee_table1 order by salary desc limit 5\")"
   ]
  },
  {
   "cell_type": "code",
   "execution_count": 15,
   "id": "8572f2b7",
   "metadata": {},
   "outputs": [
    {
     "data": {
      "text/plain": [
       "[(1, 'Sanchit', 'AshokNagar', 950000, 'TamilNadu'),\n",
       " (7, 'Ronak', 'janakpuri nagar', 750000, 'Bihar'),\n",
       " (6, 'Swapnil', 'Royal colony', 650000, 'JHARKHAND'),\n",
       " (9, 'Swapnil', 'Royal colony', 650000, 'JHARKHAND'),\n",
       " (10, 'Swapnil', 'Royal colony', 650000, 'JHARKHAND')]"
      ]
     },
     "execution_count": 15,
     "metadata": {},
     "output_type": "execute_result"
    }
   ],
   "source": [
    "cursor.fetchall()"
   ]
  },
  {
   "cell_type": "markdown",
   "id": "325f805c",
   "metadata": {},
   "source": [
    "                                     Keep Learning, Keep Growing..."
   ]
  }
 ],
 "metadata": {
  "kernelspec": {
   "display_name": "Python 3 (ipykernel)",
   "language": "python",
   "name": "python3"
  },
  "language_info": {
   "codemirror_mode": {
    "name": "ipython",
    "version": 3
   },
   "file_extension": ".py",
   "mimetype": "text/x-python",
   "name": "python",
   "nbconvert_exporter": "python",
   "pygments_lexer": "ipython3",
   "version": "3.9.7"
  }
 },
 "nbformat": 4,
 "nbformat_minor": 5
}
