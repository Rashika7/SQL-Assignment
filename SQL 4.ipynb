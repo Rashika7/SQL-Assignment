{
 "cells": [
  {
   "cell_type": "code",
   "execution_count": 6,
   "id": "16cbee75",
   "metadata": {},
   "outputs": [],
   "source": [
    "import mysql.connector as con"
   ]
  },
  {
   "cell_type": "code",
   "execution_count": 7,
   "id": "7d71a975",
   "metadata": {},
   "outputs": [],
   "source": [
    "mydb=con.connect(host='localhost', user='root', password='r@shika123')"
   ]
  },
  {
   "cell_type": "code",
   "execution_count": 8,
   "id": "287c076d",
   "metadata": {},
   "outputs": [
    {
     "data": {
      "text/plain": [
       "<mysql.connector.connection_cext.CMySQLConnection at 0x24972a81af0>"
      ]
     },
     "execution_count": 8,
     "metadata": {},
     "output_type": "execute_result"
    }
   ],
   "source": [
    "mydb"
   ]
  },
  {
   "cell_type": "code",
   "execution_count": 9,
   "id": "b42d0b27",
   "metadata": {},
   "outputs": [],
   "source": [
    "cursor=mydb.cursor()# its a pointer."
   ]
  },
  {
   "cell_type": "markdown",
   "id": "95134546",
   "metadata": {},
   "source": [
    "# Q-1) Write an SQL query to print the First_Name from worker table after replacing \"a\" with 'A'"
   ]
  },
  {
   "cell_type": "code",
   "execution_count": 10,
   "id": "87002f47",
   "metadata": {},
   "outputs": [],
   "source": [
    "cursor.execute(\"use organisation\")"
   ]
  },
  {
   "cell_type": "code",
   "execution_count": 11,
   "id": "fda12a8f",
   "metadata": {},
   "outputs": [],
   "source": [
    "import pandas as pd"
   ]
  },
  {
   "cell_type": "code",
   "execution_count": 12,
   "id": "65eacd33",
   "metadata": {},
   "outputs": [
    {
     "data": {
      "text/html": [
       "<div>\n",
       "<style scoped>\n",
       "    .dataframe tbody tr th:only-of-type {\n",
       "        vertical-align: middle;\n",
       "    }\n",
       "\n",
       "    .dataframe tbody tr th {\n",
       "        vertical-align: top;\n",
       "    }\n",
       "\n",
       "    .dataframe thead th {\n",
       "        text-align: right;\n",
       "    }\n",
       "</style>\n",
       "<table border=\"1\" class=\"dataframe\">\n",
       "  <thead>\n",
       "    <tr style=\"text-align: right;\">\n",
       "      <th></th>\n",
       "      <th>Department_ID</th>\n",
       "      <th>Department</th>\n",
       "      <th>First_Name</th>\n",
       "      <th>Salary</th>\n",
       "    </tr>\n",
       "  </thead>\n",
       "  <tbody>\n",
       "    <tr>\n",
       "      <th>0</th>\n",
       "      <td>1</td>\n",
       "      <td>DSL</td>\n",
       "      <td>Rajdeep Singh</td>\n",
       "      <td>200000000</td>\n",
       "    </tr>\n",
       "    <tr>\n",
       "      <th>1</th>\n",
       "      <td>2</td>\n",
       "      <td>DSL</td>\n",
       "      <td>Raj Singh</td>\n",
       "      <td>100000000</td>\n",
       "    </tr>\n",
       "    <tr>\n",
       "      <th>2</th>\n",
       "      <td>3</td>\n",
       "      <td>DSL</td>\n",
       "      <td>Deep Singh</td>\n",
       "      <td>300000000</td>\n",
       "    </tr>\n",
       "    <tr>\n",
       "      <th>3</th>\n",
       "      <td>4</td>\n",
       "      <td>Content</td>\n",
       "      <td>Rishabh D</td>\n",
       "      <td>2000000</td>\n",
       "    </tr>\n",
       "    <tr>\n",
       "      <th>4</th>\n",
       "      <td>5</td>\n",
       "      <td>Content</td>\n",
       "      <td>Ritesh D</td>\n",
       "      <td>3000000</td>\n",
       "    </tr>\n",
       "    <tr>\n",
       "      <th>5</th>\n",
       "      <td>6</td>\n",
       "      <td>Content</td>\n",
       "      <td>Renu</td>\n",
       "      <td>400000</td>\n",
       "    </tr>\n",
       "    <tr>\n",
       "      <th>6</th>\n",
       "      <td>7</td>\n",
       "      <td>HR</td>\n",
       "      <td>Sonakshi Singh</td>\n",
       "      <td>5000000</td>\n",
       "    </tr>\n",
       "    <tr>\n",
       "      <th>7</th>\n",
       "      <td>8</td>\n",
       "      <td>Product</td>\n",
       "      <td>Salini</td>\n",
       "      <td>6000000</td>\n",
       "    </tr>\n",
       "    <tr>\n",
       "      <th>8</th>\n",
       "      <td>9</td>\n",
       "      <td>Developer</td>\n",
       "      <td>Natasha</td>\n",
       "      <td>8000000</td>\n",
       "    </tr>\n",
       "    <tr>\n",
       "      <th>9</th>\n",
       "      <td>10</td>\n",
       "      <td>Developer</td>\n",
       "      <td>Minakshi</td>\n",
       "      <td>9000000</td>\n",
       "    </tr>\n",
       "    <tr>\n",
       "      <th>10</th>\n",
       "      <td>11</td>\n",
       "      <td>Developer</td>\n",
       "      <td>Amitabh</td>\n",
       "      <td>9500000</td>\n",
       "    </tr>\n",
       "    <tr>\n",
       "      <th>11</th>\n",
       "      <td>12</td>\n",
       "      <td>DSL</td>\n",
       "      <td>Rajdeep S</td>\n",
       "      <td>200000</td>\n",
       "    </tr>\n",
       "    <tr>\n",
       "      <th>12</th>\n",
       "      <td>13</td>\n",
       "      <td>DSL</td>\n",
       "      <td>Sakshi Singh</td>\n",
       "      <td>800000</td>\n",
       "    </tr>\n",
       "    <tr>\n",
       "      <th>13</th>\n",
       "      <td>14</td>\n",
       "      <td>Content</td>\n",
       "      <td>Ranjana Shetty</td>\n",
       "      <td>900000</td>\n",
       "    </tr>\n",
       "    <tr>\n",
       "      <th>14</th>\n",
       "      <td>15</td>\n",
       "      <td>Developer</td>\n",
       "      <td>Sejal H</td>\n",
       "      <td>950000</td>\n",
       "    </tr>\n",
       "  </tbody>\n",
       "</table>\n",
       "</div>"
      ],
      "text/plain": [
       "    Department_ID Department          First_Name     Salary\n",
       "0               1        DSL       Rajdeep Singh  200000000\n",
       "1               2        DSL           Raj Singh  100000000\n",
       "2               3        DSL          Deep Singh  300000000\n",
       "3               4    Content           Rishabh D    2000000\n",
       "4               5    Content            Ritesh D    3000000\n",
       "5               6    Content                Renu     400000\n",
       "6               7         HR      Sonakshi Singh    5000000\n",
       "7               8    Product              Salini    6000000\n",
       "8               9  Developer             Natasha    8000000\n",
       "9              10  Developer            Minakshi    9000000\n",
       "10             11  Developer             Amitabh    9500000\n",
       "11             12        DSL       Rajdeep S         200000\n",
       "12             13        DSL    Sakshi Singh         800000\n",
       "13             14    Content  Ranjana Shetty         900000\n",
       "14             15  Developer         Sejal H         950000"
      ]
     },
     "execution_count": 12,
     "metadata": {},
     "output_type": "execute_result"
    }
   ],
   "source": [
    "pd.read_sql('select * from organisation.worker_table',mydb)"
   ]
  },
  {
   "cell_type": "code",
   "execution_count": 13,
   "id": "dbc8256c",
   "metadata": {},
   "outputs": [],
   "source": [
    "d=pd.read_sql('select * from organisation.worker_table',mydb)"
   ]
  },
  {
   "cell_type": "code",
   "execution_count": 14,
   "id": "48d89c4e",
   "metadata": {},
   "outputs": [],
   "source": [
    "d.rename({'Department_ID':'ID'}, axis=1, inplace=True)"
   ]
  },
  {
   "cell_type": "code",
   "execution_count": 15,
   "id": "a56aea73",
   "metadata": {},
   "outputs": [
    {
     "data": {
      "text/html": [
       "<div>\n",
       "<style scoped>\n",
       "    .dataframe tbody tr th:only-of-type {\n",
       "        vertical-align: middle;\n",
       "    }\n",
       "\n",
       "    .dataframe tbody tr th {\n",
       "        vertical-align: top;\n",
       "    }\n",
       "\n",
       "    .dataframe thead th {\n",
       "        text-align: right;\n",
       "    }\n",
       "</style>\n",
       "<table border=\"1\" class=\"dataframe\">\n",
       "  <thead>\n",
       "    <tr style=\"text-align: right;\">\n",
       "      <th></th>\n",
       "      <th>ID</th>\n",
       "      <th>Department</th>\n",
       "      <th>First_Name</th>\n",
       "      <th>Salary</th>\n",
       "    </tr>\n",
       "  </thead>\n",
       "  <tbody>\n",
       "    <tr>\n",
       "      <th>0</th>\n",
       "      <td>1</td>\n",
       "      <td>DSL</td>\n",
       "      <td>Rajdeep Singh</td>\n",
       "      <td>200000000</td>\n",
       "    </tr>\n",
       "    <tr>\n",
       "      <th>1</th>\n",
       "      <td>2</td>\n",
       "      <td>DSL</td>\n",
       "      <td>Raj Singh</td>\n",
       "      <td>100000000</td>\n",
       "    </tr>\n",
       "    <tr>\n",
       "      <th>2</th>\n",
       "      <td>3</td>\n",
       "      <td>DSL</td>\n",
       "      <td>Deep Singh</td>\n",
       "      <td>300000000</td>\n",
       "    </tr>\n",
       "    <tr>\n",
       "      <th>3</th>\n",
       "      <td>4</td>\n",
       "      <td>Content</td>\n",
       "      <td>Rishabh D</td>\n",
       "      <td>2000000</td>\n",
       "    </tr>\n",
       "    <tr>\n",
       "      <th>4</th>\n",
       "      <td>5</td>\n",
       "      <td>Content</td>\n",
       "      <td>Ritesh D</td>\n",
       "      <td>3000000</td>\n",
       "    </tr>\n",
       "    <tr>\n",
       "      <th>5</th>\n",
       "      <td>6</td>\n",
       "      <td>Content</td>\n",
       "      <td>Renu</td>\n",
       "      <td>400000</td>\n",
       "    </tr>\n",
       "    <tr>\n",
       "      <th>6</th>\n",
       "      <td>7</td>\n",
       "      <td>HR</td>\n",
       "      <td>Sonakshi Singh</td>\n",
       "      <td>5000000</td>\n",
       "    </tr>\n",
       "    <tr>\n",
       "      <th>7</th>\n",
       "      <td>8</td>\n",
       "      <td>Product</td>\n",
       "      <td>Salini</td>\n",
       "      <td>6000000</td>\n",
       "    </tr>\n",
       "    <tr>\n",
       "      <th>8</th>\n",
       "      <td>9</td>\n",
       "      <td>Developer</td>\n",
       "      <td>Natasha</td>\n",
       "      <td>8000000</td>\n",
       "    </tr>\n",
       "    <tr>\n",
       "      <th>9</th>\n",
       "      <td>10</td>\n",
       "      <td>Developer</td>\n",
       "      <td>Minakshi</td>\n",
       "      <td>9000000</td>\n",
       "    </tr>\n",
       "    <tr>\n",
       "      <th>10</th>\n",
       "      <td>11</td>\n",
       "      <td>Developer</td>\n",
       "      <td>Amitabh</td>\n",
       "      <td>9500000</td>\n",
       "    </tr>\n",
       "    <tr>\n",
       "      <th>11</th>\n",
       "      <td>12</td>\n",
       "      <td>DSL</td>\n",
       "      <td>Rajdeep S</td>\n",
       "      <td>200000</td>\n",
       "    </tr>\n",
       "    <tr>\n",
       "      <th>12</th>\n",
       "      <td>13</td>\n",
       "      <td>DSL</td>\n",
       "      <td>Sakshi Singh</td>\n",
       "      <td>800000</td>\n",
       "    </tr>\n",
       "    <tr>\n",
       "      <th>13</th>\n",
       "      <td>14</td>\n",
       "      <td>Content</td>\n",
       "      <td>Ranjana Shetty</td>\n",
       "      <td>900000</td>\n",
       "    </tr>\n",
       "    <tr>\n",
       "      <th>14</th>\n",
       "      <td>15</td>\n",
       "      <td>Developer</td>\n",
       "      <td>Sejal H</td>\n",
       "      <td>950000</td>\n",
       "    </tr>\n",
       "  </tbody>\n",
       "</table>\n",
       "</div>"
      ],
      "text/plain": [
       "    ID Department          First_Name     Salary\n",
       "0    1        DSL       Rajdeep Singh  200000000\n",
       "1    2        DSL           Raj Singh  100000000\n",
       "2    3        DSL          Deep Singh  300000000\n",
       "3    4    Content           Rishabh D    2000000\n",
       "4    5    Content            Ritesh D    3000000\n",
       "5    6    Content                Renu     400000\n",
       "6    7         HR      Sonakshi Singh    5000000\n",
       "7    8    Product              Salini    6000000\n",
       "8    9  Developer             Natasha    8000000\n",
       "9   10  Developer            Minakshi    9000000\n",
       "10  11  Developer             Amitabh    9500000\n",
       "11  12        DSL       Rajdeep S         200000\n",
       "12  13        DSL    Sakshi Singh         800000\n",
       "13  14    Content  Ranjana Shetty         900000\n",
       "14  15  Developer         Sejal H         950000"
      ]
     },
     "execution_count": 15,
     "metadata": {},
     "output_type": "execute_result"
    }
   ],
   "source": [
    "d"
   ]
  },
  {
   "cell_type": "code",
   "execution_count": 16,
   "id": "12f0b484",
   "metadata": {},
   "outputs": [
    {
     "data": {
      "text/plain": [
       "[('RAjdeep Singh',),\n",
       " ('RAj Singh',),\n",
       " ('Deep Singh',),\n",
       " ('RishAbh D',),\n",
       " ('Ritesh D',),\n",
       " ('Renu',),\n",
       " ('SonAkshi Singh',),\n",
       " ('SAlini',),\n",
       " ('NAtAshA',),\n",
       " ('MinAkshi',),\n",
       " ('AmitAbh',),\n",
       " ('RAjdeep S    ',),\n",
       " ('SAkshi Singh    ',),\n",
       " ('RAnjAnA Shetty    ',),\n",
       " ('SejAl H    ',)]"
      ]
     },
     "execution_count": 16,
     "metadata": {},
     "output_type": "execute_result"
    }
   ],
   "source": [
    "cursor.execute(\"select replace(First_Name,'a','A') from worker_table\")\n",
    "cursor.fetchall()"
   ]
  },
  {
   "cell_type": "markdown",
   "id": "984c174b",
   "metadata": {},
   "source": [
    "# Q-2) Write an SQL query to print all worker details from the worker table order by First_Name Ascending and Department Descending."
   ]
  },
  {
   "cell_type": "code",
   "execution_count": 17,
   "id": "3baeeb30",
   "metadata": {},
   "outputs": [
    {
     "data": {
      "text/plain": [
       "[(11, 'Developer', 'Amitabh', 9500000),\n",
       " (3, 'DSL', 'Deep Singh', 300000000),\n",
       " (10, 'Developer', 'Minakshi', 9000000),\n",
       " (9, 'Developer', 'Natasha', 8000000),\n",
       " (2, 'DSL', 'Raj Singh', 100000000),\n",
       " (12, 'DSL', 'Rajdeep S    ', 200000),\n",
       " (1, 'DSL', 'Rajdeep Singh', 200000000),\n",
       " (14, 'Content', 'Ranjana Shetty    ', 900000),\n",
       " (6, 'Content', 'Renu', 400000),\n",
       " (4, 'Content', 'Rishabh D', 2000000),\n",
       " (5, 'Content', 'Ritesh D', 3000000),\n",
       " (13, 'DSL', 'Sakshi Singh    ', 800000),\n",
       " (8, 'Product', 'Salini', 6000000),\n",
       " (15, 'Developer', 'Sejal H    ', 950000),\n",
       " (7, 'HR', 'Sonakshi Singh', 5000000)]"
      ]
     },
     "execution_count": 17,
     "metadata": {},
     "output_type": "execute_result"
    }
   ],
   "source": [
    "cursor.execute(\"select * from worker_table order by First_Name Asc, Department Desc\")\n",
    "cursor.fetchall()"
   ]
  },
  {
   "cell_type": "markdown",
   "id": "955111bf",
   "metadata": {},
   "source": [
    "# Q-3) Write an SQL query to fetch the name of worker who earns the highest salary."
   ]
  },
  {
   "cell_type": "code",
   "execution_count": 18,
   "id": "3832220c",
   "metadata": {},
   "outputs": [
    {
     "data": {
      "text/plain": [
       "[('Deep Singh', 300000000)]"
      ]
     },
     "execution_count": 18,
     "metadata": {},
     "output_type": "execute_result"
    }
   ],
   "source": [
    "cursor.execute(\"select First_Name, salary from worker_table where salary=(select max(salary) from worker_table)\")\n",
    "cursor.fetchall()"
   ]
  },
  {
   "cell_type": "markdown",
   "id": "0172a79c",
   "metadata": {},
   "source": [
    "                                    Keep Learning, Keep Growing..."
   ]
  }
 ],
 "metadata": {
  "kernelspec": {
   "display_name": "Python 3 (ipykernel)",
   "language": "python",
   "name": "python3"
  },
  "language_info": {
   "codemirror_mode": {
    "name": "ipython",
    "version": 3
   },
   "file_extension": ".py",
   "mimetype": "text/x-python",
   "name": "python",
   "nbconvert_exporter": "python",
   "pygments_lexer": "ipython3",
   "version": "3.9.7"
  }
 },
 "nbformat": 4,
 "nbformat_minor": 5
}
