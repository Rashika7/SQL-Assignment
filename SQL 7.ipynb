{
 "cells": [
  {
   "cell_type": "code",
   "execution_count": 1,
   "id": "aa202313",
   "metadata": {},
   "outputs": [],
   "source": [
    "import mysql.connector as conn"
   ]
  },
  {
   "cell_type": "code",
   "execution_count": 2,
   "id": "a8fb438b",
   "metadata": {},
   "outputs": [],
   "source": [
    "mydb=conn.connect(host=\"localhost\", user=\"root\", password=\"r@shika123\")"
   ]
  },
  {
   "cell_type": "code",
   "execution_count": 3,
   "id": "4127ee98",
   "metadata": {},
   "outputs": [],
   "source": [
    "cursor=mydb.cursor()"
   ]
  },
  {
   "cell_type": "code",
   "execution_count": 4,
   "id": "643e9d2c",
   "metadata": {},
   "outputs": [
    {
     "data": {
      "text/plain": [
       "[('information_schema',),\n",
       " ('mysql',),\n",
       " ('organisation',),\n",
       " ('performance_schema',),\n",
       " ('sakila',),\n",
       " ('sys',),\n",
       " ('testrashika1',),\n",
       " ('testrashika11',),\n",
       " ('testrashika112',),\n",
       " ('world',)]"
      ]
     },
     "execution_count": 4,
     "metadata": {},
     "output_type": "execute_result"
    }
   ],
   "source": [
    "cursor.execute(\"show databases\")\n",
    "cursor.fetchall()"
   ]
  },
  {
   "cell_type": "code",
   "execution_count": 5,
   "id": "87a4030c",
   "metadata": {},
   "outputs": [],
   "source": [
    "cursor.execute(\"use organisation\")"
   ]
  },
  {
   "cell_type": "code",
   "execution_count": 6,
   "id": "f33cf41a",
   "metadata": {},
   "outputs": [],
   "source": [
    "cursor.execute(\"show tables\")"
   ]
  },
  {
   "cell_type": "code",
   "execution_count": 7,
   "id": "08f3b09b",
   "metadata": {},
   "outputs": [
    {
     "data": {
      "text/plain": [
       "[('employee',), ('employee1',), ('employee_email',), ('worker_table',)]"
      ]
     },
     "execution_count": 7,
     "metadata": {},
     "output_type": "execute_result"
    }
   ],
   "source": [
    "cursor.fetchall()"
   ]
  },
  {
   "cell_type": "code",
   "execution_count": 10,
   "id": "97cbf1a1",
   "metadata": {},
   "outputs": [],
   "source": [
    "cursor.execute(\"insert into organisation.employee values(10,'Ranjana D','JP NAGAR',158800,'Ayrsh')\")\n",
    "cursor.execute(\"insert into organisation.employee values(11,'Rohit k','KAMLA NAGAR',158000,'Azalea')\")\n",
    "cursor.execute(\"insert into organisation.employee values(12,'Rupa G','OP NAGAR',258000,'Azle')\")\n",
    "cursor.execute(\"insert into organisation.employee values(13,'Rishi P','GT NAGAR',358000,'Aztec')\")\n",
    "cursor.execute(\"insert into organisation.employee values(14,'Raju D','GTB NAGAR',458000,'Azure')\")\n",
    "cursor.execute(\"insert into organisation.employee values(15,'Reena D','MG NAGAR',558000,'Azusa')\")"
   ]
  },
  {
   "cell_type": "code",
   "execution_count": 11,
   "id": "1e56c85c",
   "metadata": {},
   "outputs": [],
   "source": [
    "mydb.commit()"
   ]
  },
  {
   "cell_type": "markdown",
   "id": "82f5186b",
   "metadata": {},
   "source": [
    "# Q-1). Write an SQL query to show only odd rows from a table."
   ]
  },
  {
   "cell_type": "code",
   "execution_count": 15,
   "id": "76801707",
   "metadata": {},
   "outputs": [],
   "source": [
    "cursor.execute(\"select* from employee where emp_id%2=1\")"
   ]
  },
  {
   "cell_type": "code",
   "execution_count": 16,
   "id": "7a766412",
   "metadata": {},
   "outputs": [
    {
     "data": {
      "text/plain": [
       "[(11, 'Rohit k', 'KAMLA NAGAR', 158000, 'Azalea'),\n",
       " (13, 'Rishi P', 'GT NAGAR', 358000, 'Aztec'),\n",
       " (15, 'Reena D', 'MG NAGAR', 558000, 'Azusa')]"
      ]
     },
     "execution_count": 16,
     "metadata": {},
     "output_type": "execute_result"
    }
   ],
   "source": [
    "cursor.fetchall()"
   ]
  },
  {
   "cell_type": "markdown",
   "id": "df378f51",
   "metadata": {},
   "source": [
    "# Q-2) Write an SQL query to clone a new table from another table."
   ]
  },
  {
   "cell_type": "code",
   "execution_count": 17,
   "id": "14b3ebaf",
   "metadata": {},
   "outputs": [],
   "source": [
    "# First create a new table to clone data from existing table.\n",
    "cursor.execute(\" create table employee_new (emp_id int, name varchar(30), salary int)\")"
   ]
  },
  {
   "cell_type": "code",
   "execution_count": 18,
   "id": "ab88dfdd",
   "metadata": {},
   "outputs": [],
   "source": [
    "cursor.execute(\" insert into employee_new select emp_id, name, salary from employee \")"
   ]
  },
  {
   "cell_type": "code",
   "execution_count": 19,
   "id": "4c0f301b",
   "metadata": {},
   "outputs": [],
   "source": [
    "mydb.commit()"
   ]
  },
  {
   "cell_type": "code",
   "execution_count": 20,
   "id": "f1bd7a5e",
   "metadata": {},
   "outputs": [
    {
     "data": {
      "text/html": [
       "<div>\n",
       "<style scoped>\n",
       "    .dataframe tbody tr th:only-of-type {\n",
       "        vertical-align: middle;\n",
       "    }\n",
       "\n",
       "    .dataframe tbody tr th {\n",
       "        vertical-align: top;\n",
       "    }\n",
       "\n",
       "    .dataframe thead th {\n",
       "        text-align: right;\n",
       "    }\n",
       "</style>\n",
       "<table border=\"1\" class=\"dataframe\">\n",
       "  <thead>\n",
       "    <tr style=\"text-align: right;\">\n",
       "      <th></th>\n",
       "      <th>emp_id</th>\n",
       "      <th>name</th>\n",
       "      <th>salary</th>\n",
       "    </tr>\n",
       "  </thead>\n",
       "  <tbody>\n",
       "    <tr>\n",
       "      <th>0</th>\n",
       "      <td>10</td>\n",
       "      <td>Ranjana D</td>\n",
       "      <td>158800</td>\n",
       "    </tr>\n",
       "    <tr>\n",
       "      <th>1</th>\n",
       "      <td>10</td>\n",
       "      <td>Ranjana D</td>\n",
       "      <td>158800</td>\n",
       "    </tr>\n",
       "    <tr>\n",
       "      <th>2</th>\n",
       "      <td>10</td>\n",
       "      <td>Ranjana D</td>\n",
       "      <td>158800</td>\n",
       "    </tr>\n",
       "    <tr>\n",
       "      <th>3</th>\n",
       "      <td>11</td>\n",
       "      <td>Rohit k</td>\n",
       "      <td>158000</td>\n",
       "    </tr>\n",
       "    <tr>\n",
       "      <th>4</th>\n",
       "      <td>12</td>\n",
       "      <td>Rupa G</td>\n",
       "      <td>258000</td>\n",
       "    </tr>\n",
       "    <tr>\n",
       "      <th>5</th>\n",
       "      <td>13</td>\n",
       "      <td>Rishi P</td>\n",
       "      <td>358000</td>\n",
       "    </tr>\n",
       "    <tr>\n",
       "      <th>6</th>\n",
       "      <td>14</td>\n",
       "      <td>Raju D</td>\n",
       "      <td>458000</td>\n",
       "    </tr>\n",
       "    <tr>\n",
       "      <th>7</th>\n",
       "      <td>15</td>\n",
       "      <td>Reena D</td>\n",
       "      <td>558000</td>\n",
       "    </tr>\n",
       "  </tbody>\n",
       "</table>\n",
       "</div>"
      ],
      "text/plain": [
       "   emp_id       name  salary\n",
       "0      10  Ranjana D  158800\n",
       "1      10  Ranjana D  158800\n",
       "2      10  Ranjana D  158800\n",
       "3      11    Rohit k  158000\n",
       "4      12     Rupa G  258000\n",
       "5      13    Rishi P  358000\n",
       "6      14     Raju D  458000\n",
       "7      15    Reena D  558000"
      ]
     },
     "execution_count": 20,
     "metadata": {},
     "output_type": "execute_result"
    }
   ],
   "source": [
    "import pandas as pd\n",
    "pd.read_sql('select * from organisation.employee_new',mydb)"
   ]
  },
  {
   "cell_type": "code",
   "execution_count": 21,
   "id": "c9aa3b4f",
   "metadata": {},
   "outputs": [
    {
     "data": {
      "text/html": [
       "<div>\n",
       "<style scoped>\n",
       "    .dataframe tbody tr th:only-of-type {\n",
       "        vertical-align: middle;\n",
       "    }\n",
       "\n",
       "    .dataframe tbody tr th {\n",
       "        vertical-align: top;\n",
       "    }\n",
       "\n",
       "    .dataframe thead th {\n",
       "        text-align: right;\n",
       "    }\n",
       "</style>\n",
       "<table border=\"1\" class=\"dataframe\">\n",
       "  <thead>\n",
       "    <tr style=\"text-align: right;\">\n",
       "      <th></th>\n",
       "      <th>emp_id</th>\n",
       "      <th>Name</th>\n",
       "      <th>Address</th>\n",
       "      <th>Salary</th>\n",
       "      <th>City</th>\n",
       "    </tr>\n",
       "  </thead>\n",
       "  <tbody>\n",
       "    <tr>\n",
       "      <th>0</th>\n",
       "      <td>10</td>\n",
       "      <td>Ranjana D</td>\n",
       "      <td>JP NAGAR</td>\n",
       "      <td>158800</td>\n",
       "      <td>Ayrshire</td>\n",
       "    </tr>\n",
       "    <tr>\n",
       "      <th>1</th>\n",
       "      <td>10</td>\n",
       "      <td>Ranjana D</td>\n",
       "      <td>JP NAGAR</td>\n",
       "      <td>158800</td>\n",
       "      <td>Ayrshire</td>\n",
       "    </tr>\n",
       "    <tr>\n",
       "      <th>2</th>\n",
       "      <td>10</td>\n",
       "      <td>Ranjana D</td>\n",
       "      <td>JP NAGAR</td>\n",
       "      <td>158800</td>\n",
       "      <td>Ayrsh</td>\n",
       "    </tr>\n",
       "    <tr>\n",
       "      <th>3</th>\n",
       "      <td>11</td>\n",
       "      <td>Rohit k</td>\n",
       "      <td>KAMLA NAGAR</td>\n",
       "      <td>158000</td>\n",
       "      <td>Azalea</td>\n",
       "    </tr>\n",
       "    <tr>\n",
       "      <th>4</th>\n",
       "      <td>12</td>\n",
       "      <td>Rupa G</td>\n",
       "      <td>OP NAGAR</td>\n",
       "      <td>258000</td>\n",
       "      <td>Azle</td>\n",
       "    </tr>\n",
       "    <tr>\n",
       "      <th>5</th>\n",
       "      <td>13</td>\n",
       "      <td>Rishi P</td>\n",
       "      <td>GT NAGAR</td>\n",
       "      <td>358000</td>\n",
       "      <td>Aztec</td>\n",
       "    </tr>\n",
       "    <tr>\n",
       "      <th>6</th>\n",
       "      <td>14</td>\n",
       "      <td>Raju D</td>\n",
       "      <td>GTB NAGAR</td>\n",
       "      <td>458000</td>\n",
       "      <td>Azure</td>\n",
       "    </tr>\n",
       "    <tr>\n",
       "      <th>7</th>\n",
       "      <td>15</td>\n",
       "      <td>Reena D</td>\n",
       "      <td>MG NAGAR</td>\n",
       "      <td>558000</td>\n",
       "      <td>Azusa</td>\n",
       "    </tr>\n",
       "  </tbody>\n",
       "</table>\n",
       "</div>"
      ],
      "text/plain": [
       "   emp_id       Name      Address  Salary      City\n",
       "0      10  Ranjana D     JP NAGAR  158800  Ayrshire\n",
       "1      10  Ranjana D     JP NAGAR  158800  Ayrshire\n",
       "2      10  Ranjana D     JP NAGAR  158800     Ayrsh\n",
       "3      11    Rohit k  KAMLA NAGAR  158000    Azalea\n",
       "4      12     Rupa G     OP NAGAR  258000      Azle\n",
       "5      13    Rishi P     GT NAGAR  358000     Aztec\n",
       "6      14     Raju D    GTB NAGAR  458000     Azure\n",
       "7      15    Reena D     MG NAGAR  558000     Azusa"
      ]
     },
     "execution_count": 21,
     "metadata": {},
     "output_type": "execute_result"
    }
   ],
   "source": [
    "import pandas as pd\n",
    "pd.read_sql('select * from organisation.employee',mydb)"
   ]
  },
  {
   "cell_type": "code",
   "execution_count": 22,
   "id": "fc30248b",
   "metadata": {},
   "outputs": [],
   "source": [
    "# From line number 20 and 21, we conclude that employee_new is clone table of employee."
   ]
  },
  {
   "cell_type": "markdown",
   "id": "8ac9cfe7",
   "metadata": {},
   "source": [
    "                                     Keep Learning, Keep Growing..."
   ]
  }
 ],
 "metadata": {
  "kernelspec": {
   "display_name": "Python 3 (ipykernel)",
   "language": "python",
   "name": "python3"
  },
  "language_info": {
   "codemirror_mode": {
    "name": "ipython",
    "version": 3
   },
   "file_extension": ".py",
   "mimetype": "text/x-python",
   "name": "python",
   "nbconvert_exporter": "python",
   "pygments_lexer": "ipython3",
   "version": "3.9.7"
  }
 },
 "nbformat": 4,
 "nbformat_minor": 5
}
