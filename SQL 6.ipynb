{
 "cells": [
  {
   "cell_type": "code",
   "execution_count": 6,
   "id": "6a96df99",
   "metadata": {},
   "outputs": [],
   "source": [
    "import mysql.connector as con"
   ]
  },
  {
   "cell_type": "code",
   "execution_count": 7,
   "id": "dd4abded",
   "metadata": {},
   "outputs": [],
   "source": [
    "mydb=con.connect(host='localhost', user='root', password='r@shika123')"
   ]
  },
  {
   "cell_type": "code",
   "execution_count": 8,
   "id": "cd3b8376",
   "metadata": {},
   "outputs": [
    {
     "data": {
      "text/plain": [
       "<mysql.connector.connection_cext.CMySQLConnection at 0x14425853ac0>"
      ]
     },
     "execution_count": 8,
     "metadata": {},
     "output_type": "execute_result"
    }
   ],
   "source": [
    "mydb"
   ]
  },
  {
   "cell_type": "code",
   "execution_count": 9,
   "id": "09353362",
   "metadata": {},
   "outputs": [],
   "source": [
    "cursor=mydb.cursor()# its a pointer."
   ]
  },
  {
   "cell_type": "code",
   "execution_count": 10,
   "id": "5109b8e5",
   "metadata": {},
   "outputs": [],
   "source": [
    "cursor.execute(\"use organisation\")"
   ]
  },
  {
   "cell_type": "markdown",
   "id": "2f16c309",
   "metadata": {},
   "source": [
    "# Q-1. Write an SQL query to print details of the Workers who have joined in Feb’2014."
   ]
  },
  {
   "cell_type": "code",
   "execution_count": 6,
   "id": "1f3b76b3",
   "metadata": {},
   "outputs": [],
   "source": [
    "cursor.execute(\"ALTER Table employee_email ADD Joining_Date date\")"
   ]
  },
  {
   "cell_type": "code",
   "execution_count": 7,
   "id": "c3ae2e6a",
   "metadata": {},
   "outputs": [],
   "source": [
    "cursor.execute(\"UPDATE employee_email SET Joining_Date= '2014-02-02' where department_id in (1,10)\")"
   ]
  },
  {
   "cell_type": "code",
   "execution_count": 12,
   "id": "0bdd7211",
   "metadata": {},
   "outputs": [],
   "source": [
    "cursor.execute(\"UPDATE employee_email SET Joining_Date= '2014-02-03' where department_id in (8,9,11,12,13,14)\")"
   ]
  },
  {
   "cell_type": "code",
   "execution_count": 13,
   "id": "d86d7365",
   "metadata": {},
   "outputs": [],
   "source": [
    "cursor.execute(\"UPDATE employee_email SET Joining_Date= '2014-02-04' where department_id in (15,16,17,18,19,20)\")"
   ]
  },
  {
   "cell_type": "code",
   "execution_count": 14,
   "id": "6e99a23f",
   "metadata": {},
   "outputs": [],
   "source": [
    "# To insert a new record in employee_email table.\n",
    "cursor.execute(\"insert into organisation.employee_email values(21,'Sanya@gmail.com','2022-03-05')\")"
   ]
  },
  {
   "cell_type": "code",
   "execution_count": 15,
   "id": "971b9f52",
   "metadata": {},
   "outputs": [
    {
     "data": {
      "text/html": [
       "<div>\n",
       "<style scoped>\n",
       "    .dataframe tbody tr th:only-of-type {\n",
       "        vertical-align: middle;\n",
       "    }\n",
       "\n",
       "    .dataframe tbody tr th {\n",
       "        vertical-align: top;\n",
       "    }\n",
       "\n",
       "    .dataframe thead th {\n",
       "        text-align: right;\n",
       "    }\n",
       "</style>\n",
       "<table border=\"1\" class=\"dataframe\">\n",
       "  <thead>\n",
       "    <tr style=\"text-align: right;\">\n",
       "      <th></th>\n",
       "      <th>Department_ID</th>\n",
       "      <th>email_id</th>\n",
       "      <th>Joining_Date</th>\n",
       "    </tr>\n",
       "  </thead>\n",
       "  <tbody>\n",
       "    <tr>\n",
       "      <th>0</th>\n",
       "      <td>1</td>\n",
       "      <td>Rajdeep_Singh@gmail.com</td>\n",
       "      <td>2014-02-02</td>\n",
       "    </tr>\n",
       "    <tr>\n",
       "      <th>1</th>\n",
       "      <td>2</td>\n",
       "      <td>Raj_Singh@gmail.com</td>\n",
       "      <td>2014-02-02</td>\n",
       "    </tr>\n",
       "    <tr>\n",
       "      <th>2</th>\n",
       "      <td>3</td>\n",
       "      <td>deep_Singh@gmail.com</td>\n",
       "      <td>2014-02-02</td>\n",
       "    </tr>\n",
       "    <tr>\n",
       "      <th>3</th>\n",
       "      <td>5</td>\n",
       "      <td>Ritesh_D@gmail.com</td>\n",
       "      <td>2014-02-02</td>\n",
       "    </tr>\n",
       "    <tr>\n",
       "      <th>4</th>\n",
       "      <td>6</td>\n",
       "      <td>Renu@gmail.com</td>\n",
       "      <td>2014-02-02</td>\n",
       "    </tr>\n",
       "    <tr>\n",
       "      <th>5</th>\n",
       "      <td>7</td>\n",
       "      <td>Sonakshi_Singh@gmail.com</td>\n",
       "      <td>2014-02-02</td>\n",
       "    </tr>\n",
       "    <tr>\n",
       "      <th>6</th>\n",
       "      <td>8</td>\n",
       "      <td>Salini@gmail.com</td>\n",
       "      <td>2014-02-03</td>\n",
       "    </tr>\n",
       "    <tr>\n",
       "      <th>7</th>\n",
       "      <td>9</td>\n",
       "      <td>Natasha@gmail.com</td>\n",
       "      <td>2014-02-03</td>\n",
       "    </tr>\n",
       "    <tr>\n",
       "      <th>8</th>\n",
       "      <td>10</td>\n",
       "      <td>Minakshi@gmail.com</td>\n",
       "      <td>2014-02-02</td>\n",
       "    </tr>\n",
       "    <tr>\n",
       "      <th>9</th>\n",
       "      <td>11</td>\n",
       "      <td>Amitabh@gmail.com</td>\n",
       "      <td>2014-02-03</td>\n",
       "    </tr>\n",
       "    <tr>\n",
       "      <th>10</th>\n",
       "      <td>12</td>\n",
       "      <td>Rajdeep_S@gmail.com</td>\n",
       "      <td>2014-02-03</td>\n",
       "    </tr>\n",
       "    <tr>\n",
       "      <th>11</th>\n",
       "      <td>13</td>\n",
       "      <td>Sakshi_Singh@gmail.com</td>\n",
       "      <td>2014-02-03</td>\n",
       "    </tr>\n",
       "    <tr>\n",
       "      <th>12</th>\n",
       "      <td>14</td>\n",
       "      <td>Ranjana_Shetty@gmail.com</td>\n",
       "      <td>2014-02-03</td>\n",
       "    </tr>\n",
       "    <tr>\n",
       "      <th>13</th>\n",
       "      <td>15</td>\n",
       "      <td>Sejal_h@gmail.com</td>\n",
       "      <td>2014-02-04</td>\n",
       "    </tr>\n",
       "    <tr>\n",
       "      <th>14</th>\n",
       "      <td>16</td>\n",
       "      <td>satish@gmail.com</td>\n",
       "      <td>2014-02-04</td>\n",
       "    </tr>\n",
       "    <tr>\n",
       "      <th>15</th>\n",
       "      <td>17</td>\n",
       "      <td>vipul@gmail.com</td>\n",
       "      <td>2014-02-04</td>\n",
       "    </tr>\n",
       "    <tr>\n",
       "      <th>16</th>\n",
       "      <td>4</td>\n",
       "      <td>Rishabh_D@gmail.com</td>\n",
       "      <td>2014-02-02</td>\n",
       "    </tr>\n",
       "    <tr>\n",
       "      <th>17</th>\n",
       "      <td>18</td>\n",
       "      <td>Rakesh@gmail.com</td>\n",
       "      <td>2014-02-04</td>\n",
       "    </tr>\n",
       "    <tr>\n",
       "      <th>18</th>\n",
       "      <td>19</td>\n",
       "      <td>Mukesh@gmail.com</td>\n",
       "      <td>2014-02-04</td>\n",
       "    </tr>\n",
       "    <tr>\n",
       "      <th>19</th>\n",
       "      <td>20</td>\n",
       "      <td>Hannah@gmail.com</td>\n",
       "      <td>2014-02-04</td>\n",
       "    </tr>\n",
       "    <tr>\n",
       "      <th>20</th>\n",
       "      <td>21</td>\n",
       "      <td>Sanya@gmail.com</td>\n",
       "      <td>2022-03-05</td>\n",
       "    </tr>\n",
       "  </tbody>\n",
       "</table>\n",
       "</div>"
      ],
      "text/plain": [
       "    Department_ID                  email_id Joining_Date\n",
       "0               1   Rajdeep_Singh@gmail.com   2014-02-02\n",
       "1               2       Raj_Singh@gmail.com   2014-02-02\n",
       "2               3      deep_Singh@gmail.com   2014-02-02\n",
       "3               5        Ritesh_D@gmail.com   2014-02-02\n",
       "4               6            Renu@gmail.com   2014-02-02\n",
       "5               7  Sonakshi_Singh@gmail.com   2014-02-02\n",
       "6               8          Salini@gmail.com   2014-02-03\n",
       "7               9         Natasha@gmail.com   2014-02-03\n",
       "8              10        Minakshi@gmail.com   2014-02-02\n",
       "9              11         Amitabh@gmail.com   2014-02-03\n",
       "10             12       Rajdeep_S@gmail.com   2014-02-03\n",
       "11             13    Sakshi_Singh@gmail.com   2014-02-03\n",
       "12             14  Ranjana_Shetty@gmail.com   2014-02-03\n",
       "13             15         Sejal_h@gmail.com   2014-02-04\n",
       "14             16          satish@gmail.com   2014-02-04\n",
       "15             17           vipul@gmail.com   2014-02-04\n",
       "16              4       Rishabh_D@gmail.com   2014-02-02\n",
       "17             18          Rakesh@gmail.com   2014-02-04\n",
       "18             19          Mukesh@gmail.com   2014-02-04\n",
       "19             20          Hannah@gmail.com   2014-02-04\n",
       "20             21           Sanya@gmail.com   2022-03-05"
      ]
     },
     "execution_count": 15,
     "metadata": {},
     "output_type": "execute_result"
    }
   ],
   "source": [
    "import pandas as pd\n",
    "pd.read_sql('select * from organisation.employee_email',mydb)"
   ]
  },
  {
   "cell_type": "code",
   "execution_count": 16,
   "id": "4cda4bfe",
   "metadata": {},
   "outputs": [],
   "source": [
    "mydb.commit()"
   ]
  },
  {
   "cell_type": "code",
   "execution_count": 17,
   "id": "350b1fca",
   "metadata": {},
   "outputs": [],
   "source": [
    "cursor.execute(\"select* from employee_email where year(joining_date)=2014 and month(joining_date)=2\")"
   ]
  },
  {
   "cell_type": "code",
   "execution_count": 18,
   "id": "e3821aef",
   "metadata": {},
   "outputs": [
    {
     "data": {
      "text/plain": [
       "[(1, 'Rajdeep_Singh@gmail.com', datetime.date(2014, 2, 2)),\n",
       " (2, 'Raj_Singh@gmail.com', datetime.date(2014, 2, 2)),\n",
       " (3, 'deep_Singh@gmail.com', datetime.date(2014, 2, 2)),\n",
       " (5, 'Ritesh_D@gmail.com', datetime.date(2014, 2, 2)),\n",
       " (6, 'Renu@gmail.com', datetime.date(2014, 2, 2)),\n",
       " (7, 'Sonakshi_Singh@gmail.com', datetime.date(2014, 2, 2)),\n",
       " (8, 'Salini@gmail.com', datetime.date(2014, 2, 3)),\n",
       " (9, 'Natasha@gmail.com', datetime.date(2014, 2, 3)),\n",
       " (10, 'Minakshi@gmail.com', datetime.date(2014, 2, 2)),\n",
       " (11, 'Amitabh@gmail.com', datetime.date(2014, 2, 3)),\n",
       " (12, 'Rajdeep_S@gmail.com', datetime.date(2014, 2, 3)),\n",
       " (13, 'Sakshi_Singh@gmail.com', datetime.date(2014, 2, 3)),\n",
       " (14, 'Ranjana_Shetty@gmail.com', datetime.date(2014, 2, 3)),\n",
       " (15, 'Sejal_h@gmail.com', datetime.date(2014, 2, 4)),\n",
       " (16, 'satish@gmail.com', datetime.date(2014, 2, 4)),\n",
       " (17, 'vipul@gmail.com', datetime.date(2014, 2, 4)),\n",
       " (4, 'Rishabh_D@gmail.com', datetime.date(2014, 2, 2)),\n",
       " (18, 'Rakesh@gmail.com', datetime.date(2014, 2, 4)),\n",
       " (19, 'Mukesh@gmail.com', datetime.date(2014, 2, 4)),\n",
       " (20, 'Hannah@gmail.com', datetime.date(2014, 2, 4))]"
      ]
     },
     "execution_count": 18,
     "metadata": {},
     "output_type": "execute_result"
    }
   ],
   "source": [
    "cursor.fetchall()"
   ]
  },
  {
   "cell_type": "markdown",
   "id": "a53b6f3c",
   "metadata": {},
   "source": [
    "# Q-2. Write an SQL query to fetch duplicate records having matching data in some fields of a table."
   ]
  },
  {
   "cell_type": "code",
   "execution_count": 19,
   "id": "0136500a",
   "metadata": {},
   "outputs": [],
   "source": [
    "cursor.execute(\"select department, count(*) from worker_table group by department having count(*)>1\")"
   ]
  },
  {
   "cell_type": "code",
   "execution_count": 20,
   "id": "a5087f69",
   "metadata": {},
   "outputs": [
    {
     "data": {
      "text/plain": [
       "[('DSL', 5), ('Content', 8), ('Product', 4), ('Developer', 4)]"
      ]
     },
     "execution_count": 20,
     "metadata": {},
     "output_type": "execute_result"
    }
   ],
   "source": [
    "cursor.fetchall()"
   ]
  },
  {
   "cell_type": "code",
   "execution_count": 21,
   "id": "b99a24d4",
   "metadata": {},
   "outputs": [],
   "source": [
    "# let's check date of employee_email table.\n",
    "cursor.execute(\"select joining_date, count(*) from employee_email group by joining_date having count(*)>1\")"
   ]
  },
  {
   "cell_type": "code",
   "execution_count": 22,
   "id": "ed22e231",
   "metadata": {},
   "outputs": [
    {
     "data": {
      "text/plain": [
       "[(datetime.date(2014, 2, 2), 8),\n",
       " (datetime.date(2014, 2, 3), 6),\n",
       " (datetime.date(2014, 2, 4), 6)]"
      ]
     },
     "execution_count": 22,
     "metadata": {},
     "output_type": "execute_result"
    }
   ],
   "source": [
    "cursor.fetchall()"
   ]
  },
  {
   "cell_type": "markdown",
   "id": "f65621ea",
   "metadata": {},
   "source": [
    "# Q-3. How to remove duplicate rows from Employees table."
   ]
  },
  {
   "cell_type": "code",
   "execution_count": 49,
   "id": "c6d52f26",
   "metadata": {},
   "outputs": [],
   "source": [
    "#Let's create a table with duplicate records.\n",
    "cursor.execute(\"create table organisation.employee1(emp_id INT(10), Name VARCHAR(20), Address VARCHAR(60), Salary INT(20), City VARCHAR(30))\")"
   ]
  },
  {
   "cell_type": "code",
   "execution_count": 50,
   "id": "fceeeba0",
   "metadata": {},
   "outputs": [],
   "source": [
    "cursor.execute(\"insert into organisation.employee1 values(1, 'Sanchit', 'Ashokpuri', 950000, 'TamilNadu')\")\n",
    "cursor.execute(\"insert into organisation.employee1 values(2, 'Shilpa', 'ModelTown', 555000, 'Ranchi')\")\n",
    "cursor.execute(\"insert into organisation.employee1 values(3, 'Priyanka', 'Indrapuri', 550070, 'Goa')\")\n",
    "cursor.execute(\"insert into organisation.employee1 values(4, 'Sachin', 'janakpuri', 550000, 'Bombay')\")\n",
    "cursor.execute(\"insert into organisation.employee1 values(5, 'Sachin', 'janakpuri', 550000, 'Bombay')\")\n",
    "cursor.execute(\"insert into organisation.employee1 values(6, 'Swapnil', 'Royal colony', 650000, 'JHARKHAND')\")\n",
    "cursor.execute(\"insert into organisation.employee1 values(7, 'Ronak', 'janakpuri', 750000, 'Bihar')\")\n",
    "cursor.execute(\"insert into organisation.employee1 values(8, 'Anushka', 'Bommanhalli', 550000, 'Bengaluru')\")\n",
    "cursor.execute(\"insert into organisation.employee1 values(9, 'Swapnil', 'Royal colony', 650000, 'JHARKHAND')\")\n",
    "cursor.execute(\"insert into organisation.employee1 values(10, 'Swapnil', 'Royal colony', 650000, 'JHARKHAND')\")"
   ]
  },
  {
   "cell_type": "code",
   "execution_count": 51,
   "id": "497d5946",
   "metadata": {},
   "outputs": [],
   "source": [
    "mydb.commit()"
   ]
  },
  {
   "cell_type": "code",
   "execution_count": 52,
   "id": "4df0d9eb",
   "metadata": {},
   "outputs": [],
   "source": [
    "cursor.execute(\"show tables\")"
   ]
  },
  {
   "cell_type": "code",
   "execution_count": 53,
   "id": "64fc7cb8",
   "metadata": {},
   "outputs": [
    {
     "data": {
      "text/plain": [
       "[('employee',), ('employee1',), ('employee_email',), ('worker_table',)]"
      ]
     },
     "execution_count": 53,
     "metadata": {},
     "output_type": "execute_result"
    }
   ],
   "source": [
    "cursor.fetchall()"
   ]
  },
  {
   "cell_type": "code",
   "execution_count": 54,
   "id": "82b4bd99",
   "metadata": {},
   "outputs": [],
   "source": [
    "import pandas as pd"
   ]
  },
  {
   "cell_type": "code",
   "execution_count": 55,
   "id": "6926ae47",
   "metadata": {},
   "outputs": [
    {
     "data": {
      "text/html": [
       "<div>\n",
       "<style scoped>\n",
       "    .dataframe tbody tr th:only-of-type {\n",
       "        vertical-align: middle;\n",
       "    }\n",
       "\n",
       "    .dataframe tbody tr th {\n",
       "        vertical-align: top;\n",
       "    }\n",
       "\n",
       "    .dataframe thead th {\n",
       "        text-align: right;\n",
       "    }\n",
       "</style>\n",
       "<table border=\"1\" class=\"dataframe\">\n",
       "  <thead>\n",
       "    <tr style=\"text-align: right;\">\n",
       "      <th></th>\n",
       "      <th>emp_id</th>\n",
       "      <th>Name</th>\n",
       "      <th>Address</th>\n",
       "      <th>Salary</th>\n",
       "      <th>City</th>\n",
       "    </tr>\n",
       "  </thead>\n",
       "  <tbody>\n",
       "    <tr>\n",
       "      <th>0</th>\n",
       "      <td>1</td>\n",
       "      <td>Sanchit</td>\n",
       "      <td>Ashokpuri</td>\n",
       "      <td>950000</td>\n",
       "      <td>TamilNadu</td>\n",
       "    </tr>\n",
       "    <tr>\n",
       "      <th>1</th>\n",
       "      <td>2</td>\n",
       "      <td>Shilpa</td>\n",
       "      <td>ModelTown</td>\n",
       "      <td>555000</td>\n",
       "      <td>Ranchi</td>\n",
       "    </tr>\n",
       "    <tr>\n",
       "      <th>2</th>\n",
       "      <td>3</td>\n",
       "      <td>Priyanka</td>\n",
       "      <td>Indrapuri</td>\n",
       "      <td>550070</td>\n",
       "      <td>Goa</td>\n",
       "    </tr>\n",
       "    <tr>\n",
       "      <th>3</th>\n",
       "      <td>4</td>\n",
       "      <td>Sachin</td>\n",
       "      <td>janakpuri</td>\n",
       "      <td>550000</td>\n",
       "      <td>Bombay</td>\n",
       "    </tr>\n",
       "    <tr>\n",
       "      <th>4</th>\n",
       "      <td>5</td>\n",
       "      <td>Sachin</td>\n",
       "      <td>janakpuri</td>\n",
       "      <td>550000</td>\n",
       "      <td>Bombay</td>\n",
       "    </tr>\n",
       "    <tr>\n",
       "      <th>5</th>\n",
       "      <td>6</td>\n",
       "      <td>Swapnil</td>\n",
       "      <td>Royal colony</td>\n",
       "      <td>650000</td>\n",
       "      <td>JHARKHAND</td>\n",
       "    </tr>\n",
       "    <tr>\n",
       "      <th>6</th>\n",
       "      <td>7</td>\n",
       "      <td>Ronak</td>\n",
       "      <td>janakpuri</td>\n",
       "      <td>750000</td>\n",
       "      <td>Bihar</td>\n",
       "    </tr>\n",
       "    <tr>\n",
       "      <th>7</th>\n",
       "      <td>8</td>\n",
       "      <td>Anushka</td>\n",
       "      <td>Bommanhalli</td>\n",
       "      <td>550000</td>\n",
       "      <td>Bengaluru</td>\n",
       "    </tr>\n",
       "    <tr>\n",
       "      <th>8</th>\n",
       "      <td>9</td>\n",
       "      <td>Swapnil</td>\n",
       "      <td>Royal colony</td>\n",
       "      <td>650000</td>\n",
       "      <td>JHARKHAND</td>\n",
       "    </tr>\n",
       "    <tr>\n",
       "      <th>9</th>\n",
       "      <td>10</td>\n",
       "      <td>Swapnil</td>\n",
       "      <td>Royal colony</td>\n",
       "      <td>650000</td>\n",
       "      <td>JHARKHAND</td>\n",
       "    </tr>\n",
       "  </tbody>\n",
       "</table>\n",
       "</div>"
      ],
      "text/plain": [
       "   emp_id      Name       Address  Salary       City\n",
       "0       1   Sanchit     Ashokpuri  950000  TamilNadu\n",
       "1       2    Shilpa     ModelTown  555000     Ranchi\n",
       "2       3  Priyanka     Indrapuri  550070        Goa\n",
       "3       4    Sachin     janakpuri  550000     Bombay\n",
       "4       5    Sachin     janakpuri  550000     Bombay\n",
       "5       6   Swapnil  Royal colony  650000  JHARKHAND\n",
       "6       7     Ronak     janakpuri  750000      Bihar\n",
       "7       8   Anushka   Bommanhalli  550000  Bengaluru\n",
       "8       9   Swapnil  Royal colony  650000  JHARKHAND\n",
       "9      10   Swapnil  Royal colony  650000  JHARKHAND"
      ]
     },
     "execution_count": 55,
     "metadata": {},
     "output_type": "execute_result"
    }
   ],
   "source": [
    "pd.read_sql('select * from organisation.employee1',mydb)"
   ]
  },
  {
   "cell_type": "code",
   "execution_count": 60,
   "id": "a616afb0",
   "metadata": {},
   "outputs": [],
   "source": [
    "cursor.execute(\"select name, address, count(*) from employee1 group by name, address having count(*)>1\")"
   ]
  },
  {
   "cell_type": "code",
   "execution_count": 61,
   "id": "fe2a3458",
   "metadata": {},
   "outputs": [
    {
     "data": {
      "text/plain": [
       "[('Sachin', 'janakpuri', 2), ('Swapnil', 'Royal colony', 3)]"
      ]
     },
     "execution_count": 61,
     "metadata": {},
     "output_type": "execute_result"
    }
   ],
   "source": [
    "cursor.fetchall()"
   ]
  },
  {
   "cell_type": "code",
   "execution_count": 72,
   "id": "abecfa57",
   "metadata": {},
   "outputs": [],
   "source": [
    "cursor.execute(\" delete from employee1 where emp_id=4\")"
   ]
  },
  {
   "cell_type": "code",
   "execution_count": 73,
   "id": "181769fe",
   "metadata": {},
   "outputs": [],
   "source": [
    "mydb.commit()"
   ]
  },
  {
   "cell_type": "code",
   "execution_count": 74,
   "id": "d4948369",
   "metadata": {},
   "outputs": [
    {
     "data": {
      "text/html": [
       "<div>\n",
       "<style scoped>\n",
       "    .dataframe tbody tr th:only-of-type {\n",
       "        vertical-align: middle;\n",
       "    }\n",
       "\n",
       "    .dataframe tbody tr th {\n",
       "        vertical-align: top;\n",
       "    }\n",
       "\n",
       "    .dataframe thead th {\n",
       "        text-align: right;\n",
       "    }\n",
       "</style>\n",
       "<table border=\"1\" class=\"dataframe\">\n",
       "  <thead>\n",
       "    <tr style=\"text-align: right;\">\n",
       "      <th></th>\n",
       "      <th>emp_id</th>\n",
       "      <th>Name</th>\n",
       "      <th>Address</th>\n",
       "      <th>Salary</th>\n",
       "      <th>City</th>\n",
       "    </tr>\n",
       "  </thead>\n",
       "  <tbody>\n",
       "    <tr>\n",
       "      <th>0</th>\n",
       "      <td>1</td>\n",
       "      <td>Sanchit</td>\n",
       "      <td>Ashokpuri</td>\n",
       "      <td>950000</td>\n",
       "      <td>TamilNadu</td>\n",
       "    </tr>\n",
       "    <tr>\n",
       "      <th>1</th>\n",
       "      <td>2</td>\n",
       "      <td>Shilpa</td>\n",
       "      <td>ModelTown</td>\n",
       "      <td>555000</td>\n",
       "      <td>Ranchi</td>\n",
       "    </tr>\n",
       "    <tr>\n",
       "      <th>2</th>\n",
       "      <td>3</td>\n",
       "      <td>Priyanka</td>\n",
       "      <td>Indrapuri</td>\n",
       "      <td>550070</td>\n",
       "      <td>Goa</td>\n",
       "    </tr>\n",
       "    <tr>\n",
       "      <th>3</th>\n",
       "      <td>5</td>\n",
       "      <td>Sachin</td>\n",
       "      <td>janakpuri</td>\n",
       "      <td>550000</td>\n",
       "      <td>Bombay</td>\n",
       "    </tr>\n",
       "    <tr>\n",
       "      <th>4</th>\n",
       "      <td>6</td>\n",
       "      <td>Swapnil</td>\n",
       "      <td>Royal colony</td>\n",
       "      <td>650000</td>\n",
       "      <td>JHARKHAND</td>\n",
       "    </tr>\n",
       "    <tr>\n",
       "      <th>5</th>\n",
       "      <td>7</td>\n",
       "      <td>Ronak</td>\n",
       "      <td>janakpuri</td>\n",
       "      <td>750000</td>\n",
       "      <td>Bihar</td>\n",
       "    </tr>\n",
       "    <tr>\n",
       "      <th>6</th>\n",
       "      <td>8</td>\n",
       "      <td>Anushka</td>\n",
       "      <td>Bommanhalli</td>\n",
       "      <td>550000</td>\n",
       "      <td>Bengaluru</td>\n",
       "    </tr>\n",
       "    <tr>\n",
       "      <th>7</th>\n",
       "      <td>9</td>\n",
       "      <td>Swapnil</td>\n",
       "      <td>Royal colony</td>\n",
       "      <td>650000</td>\n",
       "      <td>JHARKHAND</td>\n",
       "    </tr>\n",
       "    <tr>\n",
       "      <th>8</th>\n",
       "      <td>10</td>\n",
       "      <td>Swapnil</td>\n",
       "      <td>Royal colony</td>\n",
       "      <td>650000</td>\n",
       "      <td>JHARKHAND</td>\n",
       "    </tr>\n",
       "  </tbody>\n",
       "</table>\n",
       "</div>"
      ],
      "text/plain": [
       "   emp_id      Name       Address  Salary       City\n",
       "0       1   Sanchit     Ashokpuri  950000  TamilNadu\n",
       "1       2    Shilpa     ModelTown  555000     Ranchi\n",
       "2       3  Priyanka     Indrapuri  550070        Goa\n",
       "3       5    Sachin     janakpuri  550000     Bombay\n",
       "4       6   Swapnil  Royal colony  650000  JHARKHAND\n",
       "5       7     Ronak     janakpuri  750000      Bihar\n",
       "6       8   Anushka   Bommanhalli  550000  Bengaluru\n",
       "7       9   Swapnil  Royal colony  650000  JHARKHAND\n",
       "8      10   Swapnil  Royal colony  650000  JHARKHAND"
      ]
     },
     "execution_count": 74,
     "metadata": {},
     "output_type": "execute_result"
    }
   ],
   "source": [
    "import pandas as pd\n",
    "pd.read_sql('select * from organisation.employee1',mydb)"
   ]
  },
  {
   "cell_type": "code",
   "execution_count": 75,
   "id": "c0ebaedc",
   "metadata": {},
   "outputs": [],
   "source": [
    "cursor.execute(\" delete from employee1 where emp_id in (9,10)\")"
   ]
  },
  {
   "cell_type": "code",
   "execution_count": 76,
   "id": "d6684691",
   "metadata": {},
   "outputs": [],
   "source": [
    "mydb.commit()"
   ]
  },
  {
   "cell_type": "code",
   "execution_count": 78,
   "id": "cf923d17",
   "metadata": {},
   "outputs": [],
   "source": [
    "# now cross check.\n",
    "cursor.execute(\"select name, address, count(*) from employee1 group by name, address having count(*)>1\")"
   ]
  },
  {
   "cell_type": "code",
   "execution_count": 79,
   "id": "b35f5544",
   "metadata": {},
   "outputs": [
    {
     "data": {
      "text/plain": [
       "[]"
      ]
     },
     "execution_count": 79,
     "metadata": {},
     "output_type": "execute_result"
    }
   ],
   "source": [
    "cursor.fetchall()"
   ]
  },
  {
   "cell_type": "markdown",
   "id": "20a20ac9",
   "metadata": {},
   "source": [
    "                                      Keep Learning, Keep Growing..."
   ]
  }
 ],
 "metadata": {
  "kernelspec": {
   "display_name": "Python 3 (ipykernel)",
   "language": "python",
   "name": "python3"
  },
  "language_info": {
   "codemirror_mode": {
    "name": "ipython",
    "version": 3
   },
   "file_extension": ".py",
   "mimetype": "text/x-python",
   "name": "python",
   "nbconvert_exporter": "python",
   "pygments_lexer": "ipython3",
   "version": "3.9.7"
  }
 },
 "nbformat": 4,
 "nbformat_minor": 5
}
