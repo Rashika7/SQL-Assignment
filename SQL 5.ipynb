{
 "cells": [
  {
   "cell_type": "code",
   "execution_count": 1,
   "id": "63aab3f0",
   "metadata": {},
   "outputs": [],
   "source": [
    "import mysql.connector as con"
   ]
  },
  {
   "cell_type": "code",
   "execution_count": 2,
   "id": "cf51d471",
   "metadata": {},
   "outputs": [],
   "source": [
    "mydb=con.connect(host='localhost', user='root', password='r@shika123')"
   ]
  },
  {
   "cell_type": "code",
   "execution_count": 3,
   "id": "c2d4cac2",
   "metadata": {},
   "outputs": [
    {
     "data": {
      "text/plain": [
       "<mysql.connector.connection_cext.CMySQLConnection at 0x29b995e5400>"
      ]
     },
     "execution_count": 3,
     "metadata": {},
     "output_type": "execute_result"
    }
   ],
   "source": [
    "mydb"
   ]
  },
  {
   "cell_type": "code",
   "execution_count": 4,
   "id": "8ebe15a4",
   "metadata": {},
   "outputs": [],
   "source": [
    "cursor=mydb.cursor()# its a pointer."
   ]
  },
  {
   "cell_type": "code",
   "execution_count": 5,
   "id": "e581d02f",
   "metadata": {},
   "outputs": [],
   "source": [
    "cursor.execute(\"use organisation\")"
   ]
  },
  {
   "cell_type": "markdown",
   "id": "fc08eac5",
   "metadata": {},
   "source": [
    "# Q-1. Write an SQL query to print details of workers excluding first names, “Vipul” and “Satish” from Worker table."
   ]
  },
  {
   "cell_type": "code",
   "execution_count": 21,
   "id": "a6c1bf42",
   "metadata": {},
   "outputs": [],
   "source": [
    "# first need to insert both names in worker_table.\n",
    "cursor.execute(\"insert into organisation.worker_table values(16,'Content','Vipul',20000)\")\n",
    "cursor.execute(\"insert into organisation.worker_table values(4,'Content','Rishabh D',2000000)\")\n",
    "#cursor.execute(\"insert into organisation.worker_table values(17,'Content','Satish',25000)\")\n",
    "mydb.commit()"
   ]
  },
  {
   "cell_type": "code",
   "execution_count": 19,
   "id": "67754cf2",
   "metadata": {},
   "outputs": [],
   "source": [
    "import pandas as pd"
   ]
  },
  {
   "cell_type": "code",
   "execution_count": 20,
   "id": "f5823c6c",
   "metadata": {},
   "outputs": [
    {
     "data": {
      "text/html": [
       "<div>\n",
       "<style scoped>\n",
       "    .dataframe tbody tr th:only-of-type {\n",
       "        vertical-align: middle;\n",
       "    }\n",
       "\n",
       "    .dataframe tbody tr th {\n",
       "        vertical-align: top;\n",
       "    }\n",
       "\n",
       "    .dataframe thead th {\n",
       "        text-align: right;\n",
       "    }\n",
       "</style>\n",
       "<table border=\"1\" class=\"dataframe\">\n",
       "  <thead>\n",
       "    <tr style=\"text-align: right;\">\n",
       "      <th></th>\n",
       "      <th>Department_ID</th>\n",
       "      <th>Department</th>\n",
       "      <th>First_Name</th>\n",
       "      <th>Salary</th>\n",
       "    </tr>\n",
       "  </thead>\n",
       "  <tbody>\n",
       "    <tr>\n",
       "      <th>0</th>\n",
       "      <td>1</td>\n",
       "      <td>DSL</td>\n",
       "      <td>Rajdeep Singh</td>\n",
       "      <td>200000000</td>\n",
       "    </tr>\n",
       "    <tr>\n",
       "      <th>1</th>\n",
       "      <td>2</td>\n",
       "      <td>DSL</td>\n",
       "      <td>Raj Singh</td>\n",
       "      <td>100000000</td>\n",
       "    </tr>\n",
       "    <tr>\n",
       "      <th>2</th>\n",
       "      <td>3</td>\n",
       "      <td>DSL</td>\n",
       "      <td>Deep Singh</td>\n",
       "      <td>300000000</td>\n",
       "    </tr>\n",
       "    <tr>\n",
       "      <th>3</th>\n",
       "      <td>5</td>\n",
       "      <td>Content</td>\n",
       "      <td>Ritesh D</td>\n",
       "      <td>3000000</td>\n",
       "    </tr>\n",
       "    <tr>\n",
       "      <th>4</th>\n",
       "      <td>6</td>\n",
       "      <td>Content</td>\n",
       "      <td>Renu</td>\n",
       "      <td>400000</td>\n",
       "    </tr>\n",
       "    <tr>\n",
       "      <th>5</th>\n",
       "      <td>7</td>\n",
       "      <td>HR</td>\n",
       "      <td>Sonakshi Singh</td>\n",
       "      <td>5000000</td>\n",
       "    </tr>\n",
       "    <tr>\n",
       "      <th>6</th>\n",
       "      <td>8</td>\n",
       "      <td>Product</td>\n",
       "      <td>Salini</td>\n",
       "      <td>6000000</td>\n",
       "    </tr>\n",
       "    <tr>\n",
       "      <th>7</th>\n",
       "      <td>9</td>\n",
       "      <td>Developer</td>\n",
       "      <td>Natasha</td>\n",
       "      <td>8000000</td>\n",
       "    </tr>\n",
       "    <tr>\n",
       "      <th>8</th>\n",
       "      <td>10</td>\n",
       "      <td>Developer</td>\n",
       "      <td>Minakshi</td>\n",
       "      <td>9000000</td>\n",
       "    </tr>\n",
       "    <tr>\n",
       "      <th>9</th>\n",
       "      <td>11</td>\n",
       "      <td>Developer</td>\n",
       "      <td>Amitabh</td>\n",
       "      <td>9500000</td>\n",
       "    </tr>\n",
       "    <tr>\n",
       "      <th>10</th>\n",
       "      <td>12</td>\n",
       "      <td>DSL</td>\n",
       "      <td>Rajdeep S</td>\n",
       "      <td>200000</td>\n",
       "    </tr>\n",
       "    <tr>\n",
       "      <th>11</th>\n",
       "      <td>13</td>\n",
       "      <td>DSL</td>\n",
       "      <td>Sakshi Singh</td>\n",
       "      <td>800000</td>\n",
       "    </tr>\n",
       "    <tr>\n",
       "      <th>12</th>\n",
       "      <td>14</td>\n",
       "      <td>Content</td>\n",
       "      <td>Ranjana Shetty</td>\n",
       "      <td>900000</td>\n",
       "    </tr>\n",
       "    <tr>\n",
       "      <th>13</th>\n",
       "      <td>15</td>\n",
       "      <td>Developer</td>\n",
       "      <td>Sejal H</td>\n",
       "      <td>950000</td>\n",
       "    </tr>\n",
       "    <tr>\n",
       "      <th>14</th>\n",
       "      <td>17</td>\n",
       "      <td>Content</td>\n",
       "      <td>Satish</td>\n",
       "      <td>25000</td>\n",
       "    </tr>\n",
       "    <tr>\n",
       "      <th>15</th>\n",
       "      <td>16</td>\n",
       "      <td>Content</td>\n",
       "      <td>Vipul</td>\n",
       "      <td>20000</td>\n",
       "    </tr>\n",
       "    <tr>\n",
       "      <th>16</th>\n",
       "      <td>4</td>\n",
       "      <td>Content</td>\n",
       "      <td>Rishabh D</td>\n",
       "      <td>2000000</td>\n",
       "    </tr>\n",
       "  </tbody>\n",
       "</table>\n",
       "</div>"
      ],
      "text/plain": [
       "    Department_ID Department          First_Name     Salary\n",
       "0               1        DSL       Rajdeep Singh  200000000\n",
       "1               2        DSL           Raj Singh  100000000\n",
       "2               3        DSL          Deep Singh  300000000\n",
       "3               5    Content            Ritesh D    3000000\n",
       "4               6    Content                Renu     400000\n",
       "5               7         HR      Sonakshi Singh    5000000\n",
       "6               8    Product              Salini    6000000\n",
       "7               9  Developer             Natasha    8000000\n",
       "8              10  Developer            Minakshi    9000000\n",
       "9              11  Developer             Amitabh    9500000\n",
       "10             12        DSL       Rajdeep S         200000\n",
       "11             13        DSL    Sakshi Singh         800000\n",
       "12             14    Content  Ranjana Shetty         900000\n",
       "13             15  Developer         Sejal H         950000\n",
       "14             17    Content              Satish      25000\n",
       "15             16    Content               Vipul      20000\n",
       "16              4    Content           Rishabh D    2000000"
      ]
     },
     "execution_count": 20,
     "metadata": {},
     "output_type": "execute_result"
    }
   ],
   "source": [
    "pd.read_sql('select * from organisation.worker_table',mydb)"
   ]
  },
  {
   "cell_type": "code",
   "execution_count": 17,
   "id": "26472ce9",
   "metadata": {},
   "outputs": [],
   "source": [
    "cursor.execute(\"Delete from worker_table where department_ID in (16)\")\n",
    "mydb.commit()"
   ]
  },
  {
   "cell_type": "code",
   "execution_count": 22,
   "id": "47f34f7c",
   "metadata": {},
   "outputs": [
    {
     "data": {
      "text/plain": [
       "[(1, 'DSL', 'Rajdeep Singh', 200000000),\n",
       " (2, 'DSL', 'Raj Singh', 100000000),\n",
       " (3, 'DSL', 'Deep Singh', 300000000),\n",
       " (5, 'Content', 'Ritesh D', 3000000),\n",
       " (6, 'Content', 'Renu', 400000),\n",
       " (7, 'HR', 'Sonakshi Singh', 5000000),\n",
       " (8, 'Product', 'Salini', 6000000),\n",
       " (9, 'Developer', 'Natasha', 8000000),\n",
       " (10, 'Developer', 'Minakshi', 9000000),\n",
       " (11, 'Developer', 'Amitabh', 9500000),\n",
       " (12, 'DSL', 'Rajdeep S    ', 200000),\n",
       " (13, 'DSL', 'Sakshi Singh    ', 800000),\n",
       " (14, 'Content', 'Ranjana Shetty    ', 900000),\n",
       " (15, 'Developer', 'Sejal H    ', 950000),\n",
       " (4, 'Content', 'Rishabh D', 2000000),\n",
       " (4, 'Content', 'Rishabh D', 2000000)]"
      ]
     },
     "execution_count": 22,
     "metadata": {},
     "output_type": "execute_result"
    }
   ],
   "source": [
    "cursor.execute(\"select * from worker_table where first_name not in('vipul', 'satish')\")\n",
    "cursor.fetchall()"
   ]
  },
  {
   "cell_type": "markdown",
   "id": "4e89076c",
   "metadata": {},
   "source": [
    "# Q-2. Write an SQL query to print details of the Workers whose FIRST_NAME ends with ‘h’ and contains six alphabets."
   ]
  },
  {
   "cell_type": "code",
   "execution_count": 23,
   "id": "ae3e56fa",
   "metadata": {},
   "outputs": [],
   "source": [
    "cursor.execute(\"insert into organisation.worker_table values(18,'Product','Rakesh',30000)\")\n",
    "cursor.execute(\"insert into organisation.worker_table values(19,'Product','Mukesh',20000)\")\n",
    "cursor.execute(\"insert into organisation.worker_table values(20,'Product','Hannah',20000)\")\n",
    "mydb.commit()"
   ]
  },
  {
   "cell_type": "code",
   "execution_count": 24,
   "id": "dc5b36f4",
   "metadata": {},
   "outputs": [
    {
     "data": {
      "text/html": [
       "<div>\n",
       "<style scoped>\n",
       "    .dataframe tbody tr th:only-of-type {\n",
       "        vertical-align: middle;\n",
       "    }\n",
       "\n",
       "    .dataframe tbody tr th {\n",
       "        vertical-align: top;\n",
       "    }\n",
       "\n",
       "    .dataframe thead th {\n",
       "        text-align: right;\n",
       "    }\n",
       "</style>\n",
       "<table border=\"1\" class=\"dataframe\">\n",
       "  <thead>\n",
       "    <tr style=\"text-align: right;\">\n",
       "      <th></th>\n",
       "      <th>Department_ID</th>\n",
       "      <th>Department</th>\n",
       "      <th>First_Name</th>\n",
       "      <th>Salary</th>\n",
       "    </tr>\n",
       "  </thead>\n",
       "  <tbody>\n",
       "    <tr>\n",
       "      <th>0</th>\n",
       "      <td>1</td>\n",
       "      <td>DSL</td>\n",
       "      <td>Rajdeep Singh</td>\n",
       "      <td>200000000</td>\n",
       "    </tr>\n",
       "    <tr>\n",
       "      <th>1</th>\n",
       "      <td>2</td>\n",
       "      <td>DSL</td>\n",
       "      <td>Raj Singh</td>\n",
       "      <td>100000000</td>\n",
       "    </tr>\n",
       "    <tr>\n",
       "      <th>2</th>\n",
       "      <td>3</td>\n",
       "      <td>DSL</td>\n",
       "      <td>Deep Singh</td>\n",
       "      <td>300000000</td>\n",
       "    </tr>\n",
       "    <tr>\n",
       "      <th>3</th>\n",
       "      <td>5</td>\n",
       "      <td>Content</td>\n",
       "      <td>Ritesh D</td>\n",
       "      <td>3000000</td>\n",
       "    </tr>\n",
       "    <tr>\n",
       "      <th>4</th>\n",
       "      <td>6</td>\n",
       "      <td>Content</td>\n",
       "      <td>Renu</td>\n",
       "      <td>400000</td>\n",
       "    </tr>\n",
       "    <tr>\n",
       "      <th>5</th>\n",
       "      <td>7</td>\n",
       "      <td>HR</td>\n",
       "      <td>Sonakshi Singh</td>\n",
       "      <td>5000000</td>\n",
       "    </tr>\n",
       "    <tr>\n",
       "      <th>6</th>\n",
       "      <td>8</td>\n",
       "      <td>Product</td>\n",
       "      <td>Salini</td>\n",
       "      <td>6000000</td>\n",
       "    </tr>\n",
       "    <tr>\n",
       "      <th>7</th>\n",
       "      <td>9</td>\n",
       "      <td>Developer</td>\n",
       "      <td>Natasha</td>\n",
       "      <td>8000000</td>\n",
       "    </tr>\n",
       "    <tr>\n",
       "      <th>8</th>\n",
       "      <td>10</td>\n",
       "      <td>Developer</td>\n",
       "      <td>Minakshi</td>\n",
       "      <td>9000000</td>\n",
       "    </tr>\n",
       "    <tr>\n",
       "      <th>9</th>\n",
       "      <td>11</td>\n",
       "      <td>Developer</td>\n",
       "      <td>Amitabh</td>\n",
       "      <td>9500000</td>\n",
       "    </tr>\n",
       "    <tr>\n",
       "      <th>10</th>\n",
       "      <td>12</td>\n",
       "      <td>DSL</td>\n",
       "      <td>Rajdeep S</td>\n",
       "      <td>200000</td>\n",
       "    </tr>\n",
       "    <tr>\n",
       "      <th>11</th>\n",
       "      <td>13</td>\n",
       "      <td>DSL</td>\n",
       "      <td>Sakshi Singh</td>\n",
       "      <td>800000</td>\n",
       "    </tr>\n",
       "    <tr>\n",
       "      <th>12</th>\n",
       "      <td>14</td>\n",
       "      <td>Content</td>\n",
       "      <td>Ranjana Shetty</td>\n",
       "      <td>900000</td>\n",
       "    </tr>\n",
       "    <tr>\n",
       "      <th>13</th>\n",
       "      <td>15</td>\n",
       "      <td>Developer</td>\n",
       "      <td>Sejal H</td>\n",
       "      <td>950000</td>\n",
       "    </tr>\n",
       "    <tr>\n",
       "      <th>14</th>\n",
       "      <td>17</td>\n",
       "      <td>Content</td>\n",
       "      <td>Satish</td>\n",
       "      <td>25000</td>\n",
       "    </tr>\n",
       "    <tr>\n",
       "      <th>15</th>\n",
       "      <td>16</td>\n",
       "      <td>Content</td>\n",
       "      <td>Vipul</td>\n",
       "      <td>20000</td>\n",
       "    </tr>\n",
       "    <tr>\n",
       "      <th>16</th>\n",
       "      <td>4</td>\n",
       "      <td>Content</td>\n",
       "      <td>Rishabh D</td>\n",
       "      <td>2000000</td>\n",
       "    </tr>\n",
       "    <tr>\n",
       "      <th>17</th>\n",
       "      <td>16</td>\n",
       "      <td>Content</td>\n",
       "      <td>Vipul</td>\n",
       "      <td>20000</td>\n",
       "    </tr>\n",
       "    <tr>\n",
       "      <th>18</th>\n",
       "      <td>4</td>\n",
       "      <td>Content</td>\n",
       "      <td>Rishabh D</td>\n",
       "      <td>2000000</td>\n",
       "    </tr>\n",
       "    <tr>\n",
       "      <th>19</th>\n",
       "      <td>18</td>\n",
       "      <td>Product</td>\n",
       "      <td>Rakesh</td>\n",
       "      <td>30000</td>\n",
       "    </tr>\n",
       "    <tr>\n",
       "      <th>20</th>\n",
       "      <td>19</td>\n",
       "      <td>Product</td>\n",
       "      <td>Mukesh</td>\n",
       "      <td>20000</td>\n",
       "    </tr>\n",
       "    <tr>\n",
       "      <th>21</th>\n",
       "      <td>20</td>\n",
       "      <td>Product</td>\n",
       "      <td>Hannah</td>\n",
       "      <td>20000</td>\n",
       "    </tr>\n",
       "  </tbody>\n",
       "</table>\n",
       "</div>"
      ],
      "text/plain": [
       "    Department_ID Department          First_Name     Salary\n",
       "0               1        DSL       Rajdeep Singh  200000000\n",
       "1               2        DSL           Raj Singh  100000000\n",
       "2               3        DSL          Deep Singh  300000000\n",
       "3               5    Content            Ritesh D    3000000\n",
       "4               6    Content                Renu     400000\n",
       "5               7         HR      Sonakshi Singh    5000000\n",
       "6               8    Product              Salini    6000000\n",
       "7               9  Developer             Natasha    8000000\n",
       "8              10  Developer            Minakshi    9000000\n",
       "9              11  Developer             Amitabh    9500000\n",
       "10             12        DSL       Rajdeep S         200000\n",
       "11             13        DSL    Sakshi Singh         800000\n",
       "12             14    Content  Ranjana Shetty         900000\n",
       "13             15  Developer         Sejal H         950000\n",
       "14             17    Content              Satish      25000\n",
       "15             16    Content               Vipul      20000\n",
       "16              4    Content           Rishabh D    2000000\n",
       "17             16    Content               Vipul      20000\n",
       "18              4    Content           Rishabh D    2000000\n",
       "19             18    Product              Rakesh      30000\n",
       "20             19    Product              Mukesh      20000\n",
       "21             20    Product              Hannah      20000"
      ]
     },
     "execution_count": 24,
     "metadata": {},
     "output_type": "execute_result"
    }
   ],
   "source": [
    "pd.read_sql('select * from organisation.worker_table',mydb)"
   ]
  },
  {
   "cell_type": "code",
   "execution_count": 25,
   "id": "dc05648d",
   "metadata": {},
   "outputs": [
    {
     "data": {
      "text/plain": [
       "[(17, 'Content', 'Satish', 25000),\n",
       " (18, 'Product', 'Rakesh', 30000),\n",
       " (19, 'Product', 'Mukesh', 20000),\n",
       " (20, 'Product', 'Hannah', 20000)]"
      ]
     },
     "execution_count": 25,
     "metadata": {},
     "output_type": "execute_result"
    }
   ],
   "source": [
    "cursor.execute(\"select* from worker_table where first_name like'_____h' \")\n",
    "cursor.fetchall()"
   ]
  },
  {
   "cell_type": "markdown",
   "id": "81ffbd56",
   "metadata": {},
   "source": [
    "# Q-3. Write a query to validate Email of Employee."
   ]
  },
  {
   "cell_type": "code",
   "execution_count": 26,
   "id": "69a5343f",
   "metadata": {},
   "outputs": [],
   "source": [
    "cursor.execute(\"create table organisation.employee_email (Department_ID INT(20), email_id VARCHAR(30))\")"
   ]
  },
  {
   "cell_type": "code",
   "execution_count": 27,
   "id": "bb1b49ff",
   "metadata": {},
   "outputs": [],
   "source": [
    "cursor.execute(\"show tables\")"
   ]
  },
  {
   "cell_type": "code",
   "execution_count": 28,
   "id": "775439ca",
   "metadata": {},
   "outputs": [
    {
     "data": {
      "text/plain": [
       "[('employee_email',), ('worker_table',)]"
      ]
     },
     "execution_count": 28,
     "metadata": {},
     "output_type": "execute_result"
    }
   ],
   "source": [
    "cursor.fetchall()"
   ]
  },
  {
   "cell_type": "code",
   "execution_count": 29,
   "id": "bb57489f",
   "metadata": {},
   "outputs": [
    {
     "data": {
      "text/plain": [
       "[('Rajdeep Singh',),\n",
       " ('Raj Singh',),\n",
       " ('Deep Singh',),\n",
       " ('Ritesh D',),\n",
       " ('Renu',),\n",
       " ('Sonakshi Singh',),\n",
       " ('Salini',),\n",
       " ('Natasha',),\n",
       " ('Minakshi',),\n",
       " ('Amitabh',),\n",
       " ('Rajdeep S    ',),\n",
       " ('Sakshi Singh    ',),\n",
       " ('Ranjana Shetty    ',),\n",
       " ('Sejal H    ',),\n",
       " ('Satish',),\n",
       " ('Vipul',),\n",
       " ('Rishabh D',),\n",
       " ('Vipul',),\n",
       " ('Rishabh D',),\n",
       " ('Rakesh',),\n",
       " ('Mukesh',),\n",
       " ('Hannah',)]"
      ]
     },
     "execution_count": 29,
     "metadata": {},
     "output_type": "execute_result"
    }
   ],
   "source": [
    "cursor.execute(\"select first_name from worker_table\")\n",
    "cursor.fetchall()"
   ]
  },
  {
   "cell_type": "code",
   "execution_count": 30,
   "id": "06654e39",
   "metadata": {},
   "outputs": [],
   "source": [
    "cursor.execute(\"insert into organisation.employee_email values(1,'Rajdeep_Singh@gmail.com')\")\n",
    "cursor.execute(\"insert into organisation.employee_email values(2,'Raj_Singh@gmail.com')\")\n",
    "cursor.execute(\"insert into organisation.employee_email values(3,'deep_Singh@gmail.com')\")\n",
    "cursor.execute(\"insert into organisation.employee_email values(5,'Ritesh_D@gmail.com')\")\n",
    "cursor.execute(\"insert into organisation.employee_email values(6,'Renu@gmail.com')\")\n",
    "cursor.execute(\"insert into organisation.employee_email values(7,'Sonakshi_Singh@gmail.com')\")\n",
    "cursor.execute(\"insert into organisation.employee_email values(8,'Salini@gmail.com')\")\n",
    "cursor.execute(\"insert into organisation.employee_email values(9,'Natasha@gmail.com')\")\n",
    "cursor.execute(\"insert into organisation.employee_email values(10,'Minakshi@gmail.com')\")\n",
    "cursor.execute(\"insert into organisation.employee_email values(11,'Amitabh@gmail.com')\")\n",
    "cursor.execute(\"insert into organisation.employee_email values(12,'Rajdeep_S@gmail.com')\")\n",
    "cursor.execute(\"insert into organisation.employee_email values(13,'Sakshi_Singh@gmail.com')\")\n",
    "cursor.execute(\"insert into organisation.employee_email values(14,'Ranjana_Shetty@gmail.com')\")\n",
    "cursor.execute(\"insert into organisation.employee_email values(15,'Sejal_h@gmail.com')\")\n",
    "cursor.execute(\"insert into organisation.employee_email values(16,'satish@gmail.com')\")\n",
    "cursor.execute(\"insert into organisation.employee_email values(17,'vipul@gmail.com')\")\n",
    "cursor.execute(\"insert into organisation.employee_email values(4,'Rishabh_D@gmail.com')\")\n",
    "cursor.execute(\"insert into organisation.employee_email values(18,'Rakesh@gmail.com')\")\n",
    "cursor.execute(\"insert into organisation.employee_email values(19,'Mukesh@gmail.com')\")\n",
    "cursor.execute(\"insert into organisation.employee_email values(20,'Hannah@gmail.com')\")\n",
    "mydb.commit()"
   ]
  },
  {
   "cell_type": "code",
   "execution_count": 31,
   "id": "90512ba1",
   "metadata": {},
   "outputs": [
    {
     "data": {
      "text/plain": [
       "[(1, 'Rajdeep_Singh@gmail.com'),\n",
       " (2, 'Raj_Singh@gmail.com'),\n",
       " (3, 'deep_Singh@gmail.com'),\n",
       " (5, 'Ritesh_D@gmail.com'),\n",
       " (6, 'Renu@gmail.com'),\n",
       " (7, 'Sonakshi_Singh@gmail.com'),\n",
       " (8, 'Salini@gmail.com'),\n",
       " (9, 'Natasha@gmail.com'),\n",
       " (10, 'Minakshi@gmail.com'),\n",
       " (11, 'Amitabh@gmail.com'),\n",
       " (12, 'Rajdeep_S@gmail.com'),\n",
       " (13, 'Sakshi_Singh@gmail.com'),\n",
       " (14, 'Ranjana_Shetty@gmail.com'),\n",
       " (15, 'Sejal_h@gmail.com'),\n",
       " (16, 'satish@gmail.com'),\n",
       " (17, 'vipul@gmail.com'),\n",
       " (4, 'Rishabh_D@gmail.com'),\n",
       " (18, 'Rakesh@gmail.com'),\n",
       " (19, 'Mukesh@gmail.com'),\n",
       " (20, 'Hannah@gmail.com')]"
      ]
     },
     "execution_count": 31,
     "metadata": {},
     "output_type": "execute_result"
    }
   ],
   "source": [
    "cursor.execute(\"select * from employee_email\")\n",
    "cursor.fetchall()"
   ]
  },
  {
   "cell_type": "code",
   "execution_count": 39,
   "id": "f3d9f3d4",
   "metadata": {},
   "outputs": [],
   "source": [
    "cursor.execute(\"SELECT A.Department_ID, A.first_name, A.Department, A.Salary, B.email_id FROM worker_table AS A JOIN employee_email AS B ON A.Department_ID = B.Department_ID\")"
   ]
  },
  {
   "cell_type": "code",
   "execution_count": 40,
   "id": "7c008d18",
   "metadata": {},
   "outputs": [
    {
     "data": {
      "text/plain": [
       "[(1, 'Rajdeep Singh', 'DSL', 200000000, 'Rajdeep_Singh@gmail.com'),\n",
       " (2, 'Raj Singh', 'DSL', 100000000, 'Raj_Singh@gmail.com'),\n",
       " (3, 'Deep Singh', 'DSL', 300000000, 'deep_Singh@gmail.com'),\n",
       " (5, 'Ritesh D', 'Content', 3000000, 'Ritesh_D@gmail.com'),\n",
       " (6, 'Renu', 'Content', 400000, 'Renu@gmail.com'),\n",
       " (7, 'Sonakshi Singh', 'HR', 5000000, 'Sonakshi_Singh@gmail.com'),\n",
       " (8, 'Salini', 'Product', 6000000, 'Salini@gmail.com'),\n",
       " (9, 'Natasha', 'Developer', 8000000, 'Natasha@gmail.com'),\n",
       " (10, 'Minakshi', 'Developer', 9000000, 'Minakshi@gmail.com'),\n",
       " (11, 'Amitabh', 'Developer', 9500000, 'Amitabh@gmail.com'),\n",
       " (12, 'Rajdeep S    ', 'DSL', 200000, 'Rajdeep_S@gmail.com'),\n",
       " (13, 'Sakshi Singh    ', 'DSL', 800000, 'Sakshi_Singh@gmail.com'),\n",
       " (14, 'Ranjana Shetty    ', 'Content', 900000, 'Ranjana_Shetty@gmail.com'),\n",
       " (15, 'Sejal H    ', 'Developer', 950000, 'Sejal_h@gmail.com'),\n",
       " (17, 'Satish', 'Content', 25000, 'vipul@gmail.com'),\n",
       " (16, 'Vipul', 'Content', 20000, 'satish@gmail.com'),\n",
       " (4, 'Rishabh D', 'Content', 2000000, 'Rishabh_D@gmail.com'),\n",
       " (16, 'Vipul', 'Content', 20000, 'satish@gmail.com'),\n",
       " (4, 'Rishabh D', 'Content', 2000000, 'Rishabh_D@gmail.com'),\n",
       " (18, 'Rakesh', 'Product', 30000, 'Rakesh@gmail.com'),\n",
       " (19, 'Mukesh', 'Product', 20000, 'Mukesh@gmail.com'),\n",
       " (20, 'Hannah', 'Product', 20000, 'Hannah@gmail.com')]"
      ]
     },
     "execution_count": 40,
     "metadata": {},
     "output_type": "execute_result"
    }
   ],
   "source": [
    "cursor.fetchall()"
   ]
  },
  {
   "cell_type": "markdown",
   "id": "227615f5",
   "metadata": {},
   "source": [
    "                                       Keep Learning, Keep Growing...  "
   ]
  }
 ],
 "metadata": {
  "kernelspec": {
   "display_name": "Python 3 (ipykernel)",
   "language": "python",
   "name": "python3"
  },
  "language_info": {
   "codemirror_mode": {
    "name": "ipython",
    "version": 3
   },
   "file_extension": ".py",
   "mimetype": "text/x-python",
   "name": "python",
   "nbconvert_exporter": "python",
   "pygments_lexer": "ipython3",
   "version": "3.9.7"
  }
 },
 "nbformat": 4,
 "nbformat_minor": 5
}
