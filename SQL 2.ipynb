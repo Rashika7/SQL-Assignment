{
 "cells": [
  {
   "cell_type": "code",
   "execution_count": 1,
   "id": "22ad877f",
   "metadata": {},
   "outputs": [],
   "source": [
    "import mysql.connector as con"
   ]
  },
  {
   "cell_type": "code",
   "execution_count": 2,
   "id": "88a3433c",
   "metadata": {},
   "outputs": [],
   "source": [
    "mydb=con.connect(host='localhost', user='root', password='r@shika123')"
   ]
  },
  {
   "cell_type": "code",
   "execution_count": 3,
   "id": "3b7c0543",
   "metadata": {},
   "outputs": [
    {
     "data": {
      "text/plain": [
       "<mysql.connector.connection_cext.CMySQLConnection at 0x14d7d048160>"
      ]
     },
     "execution_count": 3,
     "metadata": {},
     "output_type": "execute_result"
    }
   ],
   "source": [
    "mydb"
   ]
  },
  {
   "cell_type": "code",
   "execution_count": 4,
   "id": "02ee4ece",
   "metadata": {},
   "outputs": [],
   "source": [
    "cursor=mydb.cursor()# its a pointer."
   ]
  },
  {
   "cell_type": "markdown",
   "id": "91e03391",
   "metadata": {},
   "source": [
    "# Q-1. Write an SQL query to print the first three characters of  FIRST_NAME from Workertable."
   ]
  },
  {
   "cell_type": "code",
   "execution_count": 5,
   "id": "9042f453",
   "metadata": {},
   "outputs": [],
   "source": [
    "cursor.execute(\"use organisation\")"
   ]
  },
  {
   "cell_type": "code",
   "execution_count": 6,
   "id": "19a96788",
   "metadata": {},
   "outputs": [],
   "source": [
    "cursor.execute(\"Select substring(First_Name,1,3) from Worker_table\")"
   ]
  },
  {
   "cell_type": "code",
   "execution_count": 7,
   "id": "68812908",
   "metadata": {},
   "outputs": [
    {
     "data": {
      "text/plain": [
       "[('Raj',),\n",
       " ('Raj',),\n",
       " ('Dee',),\n",
       " ('Ris',),\n",
       " ('Rit',),\n",
       " ('Ren',),\n",
       " ('Son',),\n",
       " ('Sal',),\n",
       " ('Nat',),\n",
       " ('Min',),\n",
       " ('Ami',)]"
      ]
     },
     "execution_count": 7,
     "metadata": {},
     "output_type": "execute_result"
    }
   ],
   "source": [
    "cursor.fetchall()"
   ]
  },
  {
   "cell_type": "markdown",
   "id": "eb7d7878",
   "metadata": {},
   "source": [
    "# Q-2. Write an SQL query to find the position of the alphabet (‘a’) in the first name column ‘Amitabh’ from Worker table."
   ]
  },
  {
   "cell_type": "code",
   "execution_count": 8,
   "id": "a7d4f85c",
   "metadata": {},
   "outputs": [],
   "source": [
    "cursor.execute(\"Select INSTR(First_Name, BINARY'a') from Worker_table where First_Name ='Amitabh'\")"
   ]
  },
  {
   "cell_type": "code",
   "execution_count": 9,
   "id": "daa40b8e",
   "metadata": {},
   "outputs": [
    {
     "data": {
      "text/plain": [
       "[(1,)]"
      ]
     },
     "execution_count": 9,
     "metadata": {},
     "output_type": "execute_result"
    }
   ],
   "source": [
    "cursor.fetchall()"
   ]
  },
  {
   "cell_type": "markdown",
   "id": "5d14e2fd",
   "metadata": {},
   "source": [
    "# Q-3. Write an SQL query to print the name of Departments having the highest salary in each department."
   ]
  },
  {
   "cell_type": "code",
   "execution_count": 28,
   "id": "53273df2",
   "metadata": {},
   "outputs": [
    {
     "data": {
      "text/plain": [
       "[('DSL', 300000000),\n",
       " ('Content', 3000000),\n",
       " ('HR', 5000000),\n",
       " ('Product', 6000000),\n",
       " ('Developer', 9500000)]"
      ]
     },
     "execution_count": 28,
     "metadata": {},
     "output_type": "execute_result"
    }
   ],
   "source": [
    "cursor.execute(\"SELECT Department, MAX(Salary) FROM worker_table GROUP BY Department\")\n",
    "cursor.fetchall()"
   ]
  },
  {
   "cell_type": "code",
   "execution_count": 35,
   "id": "68950f76",
   "metadata": {},
   "outputs": [
    {
     "data": {
      "text/plain": [
       "[(1, 'DSL', 'Rajdeep Singh', 200000000),\n",
       " (2, 'DSL', 'Raj Singh', 100000000),\n",
       " (3, 'DSL', 'Deep Singh', 300000000),\n",
       " (4, 'Content', 'Rishabh D', 2000000),\n",
       " (5, 'Content', 'Ritesh D', 3000000),\n",
       " (6, 'Content', 'Renu', 400000),\n",
       " (7, 'HR', 'Sonakshi Singh', 5000000),\n",
       " (8, 'Product', 'Salini', 6000000),\n",
       " (9, 'Developer', 'Natasha', 8000000),\n",
       " (10, 'Developer', 'Minakshi', 9000000),\n",
       " (11, 'Developer', 'Amitabh', 9500000)]"
      ]
     },
     "execution_count": 35,
     "metadata": {},
     "output_type": "execute_result"
    }
   ],
   "source": [
    "#to check execute below query.\n",
    "cursor.execute(\"select* from worker_table\")\n",
    "cursor.fetchall()"
   ]
  },
  {
   "cell_type": "markdown",
   "id": "3b29c1f8",
   "metadata": {},
   "source": [
    "                                       Keep Learning, Keep Growing...                        "
   ]
  }
 ],
 "metadata": {
  "kernelspec": {
   "display_name": "Python 3 (ipykernel)",
   "language": "python",
   "name": "python3"
  },
  "language_info": {
   "codemirror_mode": {
    "name": "ipython",
    "version": 3
   },
   "file_extension": ".py",
   "mimetype": "text/x-python",
   "name": "python",
   "nbconvert_exporter": "python",
   "pygments_lexer": "ipython3",
   "version": "3.9.7"
  }
 },
 "nbformat": 4,
 "nbformat_minor": 5
}
