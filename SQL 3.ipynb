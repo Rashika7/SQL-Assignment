{
 "cells": [
  {
   "cell_type": "code",
   "execution_count": 1,
   "id": "899ec547",
   "metadata": {},
   "outputs": [],
   "source": [
    "import mysql.connector as con"
   ]
  },
  {
   "cell_type": "code",
   "execution_count": 2,
   "id": "82622eae",
   "metadata": {},
   "outputs": [],
   "source": [
    "mydb=con.connect(host='localhost', user='root', password='r@shika123')"
   ]
  },
  {
   "cell_type": "code",
   "execution_count": 3,
   "id": "fd4968cb",
   "metadata": {},
   "outputs": [
    {
     "data": {
      "text/plain": [
       "<mysql.connector.connection_cext.CMySQLConnection at 0x259e1c650d0>"
      ]
     },
     "execution_count": 3,
     "metadata": {},
     "output_type": "execute_result"
    }
   ],
   "source": [
    "mydb"
   ]
  },
  {
   "cell_type": "code",
   "execution_count": 4,
   "id": "35531364",
   "metadata": {},
   "outputs": [],
   "source": [
    "cursor=mydb.cursor()# its a pointer."
   ]
  },
  {
   "cell_type": "code",
   "execution_count": 5,
   "id": "d92d21a5",
   "metadata": {},
   "outputs": [],
   "source": [
    "cursor.execute(\"use organisation\")"
   ]
  },
  {
   "cell_type": "code",
   "execution_count": 6,
   "id": "74437c7b",
   "metadata": {},
   "outputs": [],
   "source": [
    "cursor.execute(\"show tables\")"
   ]
  },
  {
   "cell_type": "code",
   "execution_count": 7,
   "id": "311629b4",
   "metadata": {},
   "outputs": [
    {
     "data": {
      "text/plain": [
       "[('worker_table',)]"
      ]
     },
     "execution_count": 7,
     "metadata": {},
     "output_type": "execute_result"
    }
   ],
   "source": [
    "cursor.fetchall()"
   ]
  },
  {
   "cell_type": "code",
   "execution_count": 8,
   "id": "5baf00e6",
   "metadata": {},
   "outputs": [],
   "source": [
    "cursor.execute(\"insert into organisation.worker_table values(12,'DSL','Rajdeep S    ',200000)\")\n",
    "cursor.execute(\"insert into organisation.worker_table values(13,'DSL','Sakshi Singh    ',800000)\")\n",
    "cursor.execute(\"insert into organisation.worker_table values(14,'Content','Ranjana Shetty    ',900000)\")\n",
    "cursor.execute(\"insert into organisation.worker_table values(15,'Developer','Sejal H    ',950000)\")"
   ]
  },
  {
   "cell_type": "code",
   "execution_count": 9,
   "id": "eaa1ba14",
   "metadata": {},
   "outputs": [],
   "source": [
    "mydb.commit()"
   ]
  },
  {
   "cell_type": "code",
   "execution_count": 10,
   "id": "69e38380",
   "metadata": {},
   "outputs": [
    {
     "data": {
      "text/plain": [
       "[(1, 'DSL', 'Rajdeep Singh', 200000000),\n",
       " (2, 'DSL', 'Raj Singh', 100000000),\n",
       " (3, 'DSL', 'Deep Singh', 300000000),\n",
       " (4, 'Content', 'Rishabh D', 2000000),\n",
       " (5, 'Content', 'Ritesh D', 3000000),\n",
       " (6, 'Content', 'Renu', 400000),\n",
       " (7, 'HR', 'Sonakshi Singh', 5000000),\n",
       " (8, 'Product', 'Salini', 6000000),\n",
       " (9, 'Developer', 'Natasha', 8000000),\n",
       " (10, 'Developer', 'Minakshi', 9000000),\n",
       " (11, 'Developer', 'Amitabh', 9500000),\n",
       " (12, 'DSL', 'Rajdeep S    ', 200000),\n",
       " (13, 'DSL', 'Sakshi Singh    ', 800000),\n",
       " (14, 'Content', 'Ranjana Shetty    ', 900000),\n",
       " (15, 'Developer', 'Sejal H    ', 950000)]"
      ]
     },
     "execution_count": 10,
     "metadata": {},
     "output_type": "execute_result"
    }
   ],
   "source": [
    "cursor.execute(\"select*from worker_table\")\n",
    "cursor.fetchall()"
   ]
  },
  {
   "cell_type": "markdown",
   "id": "29a21dcf",
   "metadata": {},
   "source": [
    "# Q-1. Write an SQL query to print the FIRST_NAME from Worker table after removing white spaces from the right side."
   ]
  },
  {
   "cell_type": "code",
   "execution_count": 11,
   "id": "5b530ae8",
   "metadata": {},
   "outputs": [
    {
     "data": {
      "text/plain": [
       "[('Rajdeep Singh',),\n",
       " ('Raj Singh',),\n",
       " ('Deep Singh',),\n",
       " ('Rishabh D',),\n",
       " ('Ritesh D',),\n",
       " ('Renu',),\n",
       " ('Sonakshi Singh',),\n",
       " ('Salini',),\n",
       " ('Natasha',),\n",
       " ('Minakshi',),\n",
       " ('Amitabh',),\n",
       " ('Rajdeep S',),\n",
       " ('Sakshi Singh',),\n",
       " ('Ranjana Shetty',),\n",
       " ('Sejal H',)]"
      ]
     },
     "execution_count": 11,
     "metadata": {},
     "output_type": "execute_result"
    }
   ],
   "source": [
    "cursor.execute(\"Select RTRIM(FIRST_NAME) from Worker_table\")\n",
    "cursor.fetchall()"
   ]
  },
  {
   "cell_type": "markdown",
   "id": "d32855ec",
   "metadata": {},
   "source": [
    "# Q-2. Write an SQL query that fetches the unique values of DEPARTMENT from Worker table and prints its length."
   ]
  },
  {
   "cell_type": "code",
   "execution_count": 14,
   "id": "d567754c",
   "metadata": {},
   "outputs": [
    {
     "data": {
      "text/plain": [
       "[('DSL', 3), ('Content', 7), ('HR', 2), ('Product', 7), ('Developer', 9)]"
      ]
     },
     "execution_count": 14,
     "metadata": {},
     "output_type": "execute_result"
    }
   ],
   "source": [
    "cursor.execute(\"SELECT DEPARTMENT, MAX(LENGTH(DEPARTMENT)) FROM WORKER_table GROUP BY DEPARTMENT\")\n",
    "cursor.fetchall()"
   ]
  },
  {
   "cell_type": "markdown",
   "id": "3533e9b7",
   "metadata": {},
   "source": [
    "# Q-3. Write an SQL query to fetch nth max salaries from a table."
   ]
  },
  {
   "cell_type": "code",
   "execution_count": 26,
   "id": "04a329a8",
   "metadata": {},
   "outputs": [
    {
     "data": {
      "text/plain": [
       "[(11, 9500000)]"
      ]
     },
     "execution_count": 26,
     "metadata": {},
     "output_type": "execute_result"
    }
   ],
   "source": [
    "#Finding 4th highest salary, if you want to find nth then replace 4 by that number.\n",
    "cursor.execute(\"SELECT department_id,salary from worker_table w1 where 4-1=(select count(distinct salary)from worker_table w2 where w2.salary>w1.salary)\")\n",
    "cursor.fetchall()"
   ]
  },
  {
   "cell_type": "markdown",
   "id": "03eaa2d7",
   "metadata": {},
   "source": [
    "                                   Keep Learning, Keep Growing..."
   ]
  }
 ],
 "metadata": {
  "kernelspec": {
   "display_name": "Python 3 (ipykernel)",
   "language": "python",
   "name": "python3"
  },
  "language_info": {
   "codemirror_mode": {
    "name": "ipython",
    "version": 3
   },
   "file_extension": ".py",
   "mimetype": "text/x-python",
   "name": "python",
   "nbconvert_exporter": "python",
   "pygments_lexer": "ipython3",
   "version": "3.9.7"
  }
 },
 "nbformat": 4,
 "nbformat_minor": 5
}
