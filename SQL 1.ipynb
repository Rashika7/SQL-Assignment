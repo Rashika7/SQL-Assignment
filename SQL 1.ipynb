{
 "cells": [
  {
   "cell_type": "code",
   "execution_count": 2,
   "id": "a40e2e8c",
   "metadata": {},
   "outputs": [
    {
     "name": "stdout",
     "output_type": "stream",
     "text": [
      "Requirement already satisfied: mysql-connector-python in c:\\users\\rashika\\anaconda3\\lib\\site-packages (8.0.28)\n",
      "Requirement already satisfied: protobuf>=3.0.0 in c:\\users\\rashika\\anaconda3\\lib\\site-packages (from mysql-connector-python) (3.19.4)\n"
     ]
    }
   ],
   "source": [
    "#First we need to establish connection between python notebook and mysql workbench to fetch the data according to questions.\n",
    "!pip install mysql-connector-python"
   ]
  },
  {
   "cell_type": "code",
   "execution_count": 3,
   "id": "12684997",
   "metadata": {},
   "outputs": [],
   "source": [
    "#!pip3 install mysql-connector-python\n",
    "#The above command needs to be run when executer gets error with the above command in line one."
   ]
  },
  {
   "cell_type": "code",
   "execution_count": 4,
   "id": "cbbd454d",
   "metadata": {},
   "outputs": [],
   "source": [
    "import mysql.connector as con"
   ]
  },
  {
   "cell_type": "code",
   "execution_count": 5,
   "id": "74881e09",
   "metadata": {},
   "outputs": [],
   "source": [
    "mydb=con.connect(host='localhost', user='root', password='r@shika123')"
   ]
  },
  {
   "cell_type": "code",
   "execution_count": 6,
   "id": "bd919e09",
   "metadata": {},
   "outputs": [
    {
     "data": {
      "text/plain": [
       "<mysql.connector.connection_cext.CMySQLConnection at 0x180e5c093d0>"
      ]
     },
     "execution_count": 6,
     "metadata": {},
     "output_type": "execute_result"
    }
   ],
   "source": [
    "mydb"
   ]
  },
  {
   "cell_type": "code",
   "execution_count": 7,
   "id": "de1e9d20",
   "metadata": {},
   "outputs": [],
   "source": [
    "cursor=mydb.cursor()# its a pointer."
   ]
  },
  {
   "cell_type": "code",
   "execution_count": 8,
   "id": "a4ef6d0e",
   "metadata": {},
   "outputs": [],
   "source": [
    "cursor.execute(\"show databases\")"
   ]
  },
  {
   "cell_type": "code",
   "execution_count": 9,
   "id": "f6691892",
   "metadata": {},
   "outputs": [
    {
     "data": {
      "text/plain": [
       "[('information_schema',),\n",
       " ('mysql',),\n",
       " ('performance_schema',),\n",
       " ('sakila',),\n",
       " ('sys',),\n",
       " ('testrashika1',),\n",
       " ('testrashika11',),\n",
       " ('testrashika112',),\n",
       " ('world',)]"
      ]
     },
     "execution_count": 9,
     "metadata": {},
     "output_type": "execute_result"
    }
   ],
   "source": [
    "cursor.fetchall()"
   ]
  },
  {
   "cell_type": "code",
   "execution_count": 10,
   "id": "72ab3325",
   "metadata": {},
   "outputs": [],
   "source": [
    "# let's create a database.\n",
    "cursor.execute(\"create database Organisation\")"
   ]
  },
  {
   "cell_type": "code",
   "execution_count": 11,
   "id": "9573f32b",
   "metadata": {},
   "outputs": [],
   "source": [
    "#let's create a table inside organisation database.\n",
    "cursor.execute(\"create table Organisation.Worker_Table(Department_ID INT(20), Department VARCHAR(30), First_Name VARCHAR(30), Salary INT(10))\")"
   ]
  },
  {
   "cell_type": "code",
   "execution_count": 12,
   "id": "a0fcf528",
   "metadata": {},
   "outputs": [],
   "source": [
    "cursor.execute(\"use organisation\")"
   ]
  },
  {
   "cell_type": "code",
   "execution_count": 13,
   "id": "31e237ce",
   "metadata": {},
   "outputs": [],
   "source": [
    "cursor.execute(\"show tables\")"
   ]
  },
  {
   "cell_type": "code",
   "execution_count": 14,
   "id": "bd9b4c53",
   "metadata": {},
   "outputs": [
    {
     "data": {
      "text/plain": [
       "[('worker_table',)]"
      ]
     },
     "execution_count": 14,
     "metadata": {},
     "output_type": "execute_result"
    }
   ],
   "source": [
    "cursor.fetchall()"
   ]
  },
  {
   "cell_type": "code",
   "execution_count": 15,
   "id": "e17a3a2b",
   "metadata": {},
   "outputs": [],
   "source": [
    "cursor.execute(\"insert into organisation.worker_table values(1,'DSL','Rajdeep Singh',200000000)\")"
   ]
  },
  {
   "cell_type": "code",
   "execution_count": 16,
   "id": "f6fe7311",
   "metadata": {},
   "outputs": [],
   "source": [
    "# To check in sqlworkbench, we need to commit operation.\n",
    "mydb.commit()"
   ]
  },
  {
   "cell_type": "code",
   "execution_count": 17,
   "id": "8b3efc71",
   "metadata": {},
   "outputs": [],
   "source": [
    "cursor.execute(\"select* from organisation.worker_table\")"
   ]
  },
  {
   "cell_type": "code",
   "execution_count": 18,
   "id": "4fbf3bda",
   "metadata": {},
   "outputs": [
    {
     "data": {
      "text/plain": [
       "[(1, 'DSL', 'Rajdeep Singh', 200000000)]"
      ]
     },
     "execution_count": 18,
     "metadata": {},
     "output_type": "execute_result"
    }
   ],
   "source": [
    "cursor.fetchall()"
   ]
  },
  {
   "cell_type": "code",
   "execution_count": 19,
   "id": "c20de38b",
   "metadata": {},
   "outputs": [],
   "source": [
    "cursor.execute(\"insert into organisation.worker_table values(2,'DSL','Raj Singh',100000000)\")"
   ]
  },
  {
   "cell_type": "code",
   "execution_count": 20,
   "id": "b0592fd2",
   "metadata": {},
   "outputs": [],
   "source": [
    "cursor.execute(\"insert into organisation.worker_table values(3,'DSL','Deep Singh',300000000)\")"
   ]
  },
  {
   "cell_type": "code",
   "execution_count": 21,
   "id": "7add709e",
   "metadata": {},
   "outputs": [],
   "source": [
    "cursor.execute(\"insert into organisation.worker_table values(4,'Content','Rishabh D',2000000)\")\n",
    "cursor.execute(\"insert into organisation.worker_table values(5,'Content','Ritesh D',3000000)\")\n",
    "cursor.execute(\"insert into organisation.worker_table values(6,'Content','Renu',400000)\")\n",
    "cursor.execute(\"insert into organisation.worker_table values(7,'HR','Sonakshi Singh',5000000)\")\n",
    "cursor.execute(\"insert into organisation.worker_table values(8,'Product','Salini',6000000)\")\n",
    "cursor.execute(\"insert into organisation.worker_table values(9,'Developer','Natasha',8000000)\")\n",
    "cursor.execute(\"insert into organisation.worker_table values(10,'Developer','Minakshi',9000000)\")\n",
    "cursor.execute(\"insert into organisation.worker_table values(11,'Developer','Amitabh',9500000)\")"
   ]
  },
  {
   "cell_type": "code",
   "execution_count": 22,
   "id": "b8cffb77",
   "metadata": {},
   "outputs": [],
   "source": [
    "mydb.commit()"
   ]
  },
  {
   "cell_type": "markdown",
   "id": "8a2f8c04",
   "metadata": {},
   "source": [
    "# Q-1. Write an SQL query to fetch “First_Name” from Worker table using the alias name as WORKER_NAME.\n"
   ]
  },
  {
   "cell_type": "code",
   "execution_count": 23,
   "id": "f0cfedfe",
   "metadata": {},
   "outputs": [],
   "source": [
    "cursor.execute(\"select First_Name AS WORKER_NAME from worker_table\")"
   ]
  },
  {
   "cell_type": "code",
   "execution_count": 24,
   "id": "dc229bdb",
   "metadata": {},
   "outputs": [
    {
     "data": {
      "text/plain": [
       "[('Rajdeep Singh',),\n",
       " ('Raj Singh',),\n",
       " ('Deep Singh',),\n",
       " ('Rishabh D',),\n",
       " ('Ritesh D',),\n",
       " ('Renu',),\n",
       " ('Sonakshi Singh',),\n",
       " ('Salini',),\n",
       " ('Natasha',),\n",
       " ('Minakshi',),\n",
       " ('Amitabh',)]"
      ]
     },
     "execution_count": 24,
     "metadata": {},
     "output_type": "execute_result"
    }
   ],
   "source": [
    "cursor.fetchall()"
   ]
  },
  {
   "cell_type": "markdown",
   "id": "592eb32c",
   "metadata": {},
   "source": [
    "# Q-2. Write an SQL query to fetch unique values of DEPARTMENT from Worker table."
   ]
  },
  {
   "cell_type": "code",
   "execution_count": 25,
   "id": "db6a4564",
   "metadata": {},
   "outputs": [],
   "source": [
    "cursor.execute(\"Select distinct DEPARTMENT from worker_table\")"
   ]
  },
  {
   "cell_type": "code",
   "execution_count": 26,
   "id": "95f665d1",
   "metadata": {},
   "outputs": [
    {
     "data": {
      "text/plain": [
       "[('DSL',), ('Content',), ('HR',), ('Product',), ('Developer',)]"
      ]
     },
     "execution_count": 26,
     "metadata": {},
     "output_type": "execute_result"
    }
   ],
   "source": [
    "cursor.fetchall()"
   ]
  },
  {
   "cell_type": "markdown",
   "id": "b6a5e16a",
   "metadata": {},
   "source": [
    "# Q-3. Write an SQL query to show the last 5 record from a table."
   ]
  },
  {
   "cell_type": "code",
   "execution_count": 27,
   "id": "efffde6c",
   "metadata": {},
   "outputs": [
    {
     "data": {
      "text/plain": [
       "[(1, 'DSL', 'Rajdeep Singh', 200000000),\n",
       " (2, 'DSL', 'Raj Singh', 100000000),\n",
       " (3, 'DSL', 'Deep Singh', 300000000),\n",
       " (4, 'Content', 'Rishabh D', 2000000),\n",
       " (5, 'Content', 'Ritesh D', 3000000),\n",
       " (6, 'Content', 'Renu', 400000),\n",
       " (7, 'HR', 'Sonakshi Singh', 5000000),\n",
       " (8, 'Product', 'Salini', 6000000),\n",
       " (9, 'Developer', 'Natasha', 8000000),\n",
       " (10, 'Developer', 'Minakshi', 9000000),\n",
       " (11, 'Developer', 'Amitabh', 9500000)]"
      ]
     },
     "execution_count": 27,
     "metadata": {},
     "output_type": "execute_result"
    }
   ],
   "source": [
    "# First needs to be check total number of records in worker_table.\n",
    "cursor.execute(\"select * from worker_table\")\n",
    "cursor.fetchall()"
   ]
  },
  {
   "cell_type": "code",
   "execution_count": 29,
   "id": "fb471cab",
   "metadata": {},
   "outputs": [],
   "source": [
    "cursor.execute(\"SELECT * FROM worker_table WHERE Department_ID > (SELECT COUNT(*) FROM worker_table) - 5\")"
   ]
  },
  {
   "cell_type": "code",
   "execution_count": 30,
   "id": "26d2c1b9",
   "metadata": {},
   "outputs": [
    {
     "data": {
      "text/plain": [
       "[(7, 'HR', 'Sonakshi Singh', 5000000),\n",
       " (8, 'Product', 'Salini', 6000000),\n",
       " (9, 'Developer', 'Natasha', 8000000),\n",
       " (10, 'Developer', 'Minakshi', 9000000),\n",
       " (11, 'Developer', 'Amitabh', 9500000)]"
      ]
     },
     "execution_count": 30,
     "metadata": {},
     "output_type": "execute_result"
    }
   ],
   "source": [
    "cursor.fetchall()"
   ]
  },
  {
   "cell_type": "markdown",
   "id": "07aaf2af",
   "metadata": {},
   "source": [
    "                                          Keep Learning, Keep Growing..."
   ]
  }
 ],
 "metadata": {
  "kernelspec": {
   "display_name": "Python 3 (ipykernel)",
   "language": "python",
   "name": "python3"
  },
  "language_info": {
   "codemirror_mode": {
    "name": "ipython",
    "version": 3
   },
   "file_extension": ".py",
   "mimetype": "text/x-python",
   "name": "python",
   "nbconvert_exporter": "python",
   "pygments_lexer": "ipython3",
   "version": "3.9.7"
  }
 },
 "nbformat": 4,
 "nbformat_minor": 5
}
